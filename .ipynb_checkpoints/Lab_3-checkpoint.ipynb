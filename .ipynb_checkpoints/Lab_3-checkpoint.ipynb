{
 "cells": [
  {
   "cell_type": "markdown",
   "id": "9d9aa1a4",
   "metadata": {},
   "source": [
    "# Лабораторная работа 3"
   ]
  },
  {
   "cell_type": "code",
   "execution_count": 21,
   "id": "7dd5cb1e",
   "metadata": {},
   "outputs": [],
   "source": [
    "import numpy as np\n",
    "import matplotlib.pyplot as plt\n",
    "import math"
   ]
  },
  {
   "cell_type": "markdown",
   "id": "2db4c80f",
   "metadata": {},
   "source": [
    "Решим уравнение f(x) = 0. f(x) - сеточная функция."
   ]
  },
  {
   "cell_type": "markdown",
   "id": "256c2160",
   "metadata": {},
   "source": [
    "## 1. Метод бисекции"
   ]
  },
  {
   "cell_type": "code",
   "execution_count": 22,
   "id": "4d5a80cf",
   "metadata": {},
   "outputs": [],
   "source": [
    "def sign(a):\n",
    "    if a > 0:\n",
    "        return 1\n",
    "    elif a < 0:\n",
    "        return -1\n",
    "    else:\n",
    "        return 0"
   ]
  },
  {
   "cell_type": "code",
   "execution_count": 23,
   "id": "ab3a4bb2",
   "metadata": {},
   "outputs": [],
   "source": [
    "def f(x):\n",
    "    return (x-1) * (x-1)"
   ]
  },
  {
   "cell_type": "code",
   "execution_count": 24,
   "id": "a49a0fd2",
   "metadata": {},
   "outputs": [],
   "source": [
    "def bisection(f, search_area, e_x):\n",
    "#     N = F_arr.shape[0]\n",
    "#     roots = []\n",
    "#     i0 = 0\n",
    "#     j0 = -1\n",
    "#     while sign(F_arr[i0]) == sign(F_arr[j0]) and i0 <= N-1:\n",
    "#         i0 += 1\n",
    "#     if i0 == N-1:\n",
    "#         print('Cant find roots')\n",
    "#     error_x = \n",
    "    start = search_area[0]\n",
    "    finish = search_area[1]\n",
    "    error_x = finish - start\n",
    "    while error_x >= e_x:        \n",
    "        med = (start + finish) / 2\n",
    "        if f(med) == 0:\n",
    "            return(med)\n",
    "        elif sign(f(start)) != sign(f(med)):\n",
    "            finish = med\n",
    "        else:\n",
    "            start = med\n",
    "        error_x = finish - start\n",
    "        \n",
    "    return (start + finish) / 2\n",
    "            \n",
    "            \n",
    "        "
   ]
  },
  {
   "cell_type": "code",
   "execution_count": 25,
   "id": "847eaf71",
   "metadata": {},
   "outputs": [
    {
     "ename": "NameError",
     "evalue": "name 'sin' is not defined",
     "output_type": "error",
     "traceback": [
      "\u001b[1;31m---------------------------------------------------------------------------\u001b[0m",
      "\u001b[1;31mNameError\u001b[0m                                 Traceback (most recent call last)",
      "\u001b[1;32m<ipython-input-25-903ac732778d>\u001b[0m in \u001b[0;36m<module>\u001b[1;34m\u001b[0m\n\u001b[0;32m      1\u001b[0m \u001b[0msearch_area\u001b[0m \u001b[1;33m=\u001b[0m \u001b[0mnp\u001b[0m\u001b[1;33m.\u001b[0m\u001b[0marray\u001b[0m\u001b[1;33m(\u001b[0m\u001b[1;33m[\u001b[0m\u001b[1;36m2.5\u001b[0m\u001b[1;33m,\u001b[0m \u001b[1;36m4\u001b[0m\u001b[1;33m]\u001b[0m\u001b[1;33m)\u001b[0m\u001b[1;33m\u001b[0m\u001b[1;33m\u001b[0m\u001b[0m\n\u001b[1;32m----> 2\u001b[1;33m \u001b[0mbisection\u001b[0m\u001b[1;33m(\u001b[0m\u001b[0msin\u001b[0m\u001b[1;33m,\u001b[0m \u001b[0msearch_area\u001b[0m\u001b[1;33m,\u001b[0m \u001b[1;36m0.001\u001b[0m\u001b[1;33m)\u001b[0m\u001b[1;33m\u001b[0m\u001b[1;33m\u001b[0m\u001b[0m\n\u001b[0m",
      "\u001b[1;31mNameError\u001b[0m: name 'sin' is not defined"
     ]
    }
   ],
   "source": [
    "search_area = np.array([2.5, 4])\n",
    "bisection(sin, search_area, 0.001)"
   ]
  },
  {
   "cell_type": "markdown",
   "id": "8a13ceb3",
   "metadata": {},
   "source": [
    "## 2а Метод Хорд."
   ]
  },
  {
   "cell_type": "code",
   "execution_count": 26,
   "id": "939d949d",
   "metadata": {},
   "outputs": [],
   "source": [
    "def chord_method(f, search_area, e_x, x0, x1):\n",
    "    x = []\n",
    "    x.append(x0)\n",
    "    x.append(x1)\n",
    "    while np.abs(x[-1] - x[-2]) >= e_x:\n",
    "        x.append(x[-1] - f(x[-1]) * (x[-1] - x[-2]) / (f(x[-1]) - f(x[-2])))\n",
    "    print('root:')\n",
    "    print(x[-1])\n",
    "    print('multiplicity:')\n",
    "    q = (x[-1] - x[-2]) / (x[-2] - x[-3])\n",
    "    multiplicity = 1 / (1 - q)\n",
    "    print(multiplicity)"
   ]
  },
  {
   "cell_type": "code",
   "execution_count": 27,
   "id": "d809a16d",
   "metadata": {},
   "outputs": [
    {
     "ename": "NameError",
     "evalue": "name 'sin' is not defined",
     "output_type": "error",
     "traceback": [
      "\u001b[1;31m---------------------------------------------------------------------------\u001b[0m",
      "\u001b[1;31mNameError\u001b[0m                                 Traceback (most recent call last)",
      "\u001b[1;32m<ipython-input-27-0c0805cab2c9>\u001b[0m in \u001b[0;36m<module>\u001b[1;34m\u001b[0m\n\u001b[1;32m----> 1\u001b[1;33m \u001b[0mchord_method\u001b[0m\u001b[1;33m(\u001b[0m\u001b[0msin\u001b[0m\u001b[1;33m,\u001b[0m \u001b[0msearch_area\u001b[0m\u001b[1;33m,\u001b[0m \u001b[1;36m0.001\u001b[0m\u001b[1;33m,\u001b[0m \u001b[1;36m4\u001b[0m \u001b[1;33m,\u001b[0m \u001b[1;36m4.1\u001b[0m\u001b[1;33m)\u001b[0m\u001b[1;33m\u001b[0m\u001b[1;33m\u001b[0m\u001b[0m\n\u001b[0m",
      "\u001b[1;31mNameError\u001b[0m: name 'sin' is not defined"
     ]
    }
   ],
   "source": [
    "chord_method(sin, search_area, 0.001, 4 , 4.1)"
   ]
  },
  {
   "cell_type": "markdown",
   "id": "55c5f919",
   "metadata": {},
   "source": [
    "## 2b Метод Ньютона"
   ]
  },
  {
   "cell_type": "code",
   "execution_count": null,
   "id": "be33b4cb",
   "metadata": {},
   "outputs": [],
   "source": [
    "def Newton(f, search_area, e_x, x0):\n",
    "    x = []\n",
    "    x.append(x0)\n",
    "    \n",
    "    h = e_x \n",
    "    dif = (f(x[-1] + h) - f(x[-1] - h)) / (2 * h)\n",
    "    if dif == 0:\n",
    "            dif += e_x\n",
    "            \n",
    "    x.append(x[-1] - f(x[-1]) / dif)\n",
    "    \n",
    "    i = 0\n",
    "    while np.abs(x[-1] - x[-2]) >= e_x and i <= 100000:\n",
    "        dif = (f(x[-1] + h) - f(x[-1] - h)) / (2 * h)\n",
    "        if dif == 0:\n",
    "            dif += e_x\n",
    "        x.append(x[-1] - f(x[-1]) / dif)\n",
    "        i += 1\n",
    "        \n",
    "    print('root:')\n",
    "    print(x[-1])\n",
    "    print('multiplicity:')\n",
    "    q = (x[-1] - x[-2]) / (x[-2] - x[-3])\n",
    "    multiplicity = 1 / (1 - q)\n",
    "    print(multiplicity)"
   ]
  },
  {
   "cell_type": "code",
   "execution_count": null,
   "id": "67a8e702",
   "metadata": {},
   "outputs": [],
   "source": [
    "def sin(x):\n",
    "    return np.sin(x)"
   ]
  },
  {
   "cell_type": "code",
   "execution_count": null,
   "id": "46e7e118",
   "metadata": {},
   "outputs": [],
   "source": [
    "Newton(f, search_area, 0.0000000001, 4)"
   ]
  },
  {
   "cell_type": "markdown",
   "id": "afc25bee",
   "metadata": {},
   "source": [
    "## 2c Метод секущей"
   ]
  },
  {
   "cell_type": "code",
   "execution_count": null,
   "id": "a7516093",
   "metadata": {},
   "outputs": [],
   "source": [
    "def secant(f, search_area, e_x, x0):\n",
    "    x = []\n",
    "    x.append(x0)\n",
    "    h = e_x\n",
    "    dif = (f(x[-1] + h) - f(x[-1] - h)) / (2 * h)\n",
    "    if dif == 0:\n",
    "        print(\"Can't solve. Dif = 0 \")\n",
    "        return -1\n",
    "    x.append(x[-1] - f(x[-1]) / dif)\n",
    "    i = 0\n",
    "    while np.abs(x[-1] - x[-2]) >= e_x and i <= 100000:\n",
    "        if dif == 0:\n",
    "            dif += e_x\n",
    "        x.append(x[-1] - f(x[-1]) / dif)\n",
    "        i += 1\n",
    "    print('root:')\n",
    "    print(x[-1])\n",
    "    print('multiplicity:')\n",
    "    q = (x[-1] - x[-2]) / (x[-2] - x[-3])\n",
    "    multiplicity = 1 / (1 - q)\n",
    "    print(multiplicity)"
   ]
  },
  {
   "cell_type": "code",
   "execution_count": null,
   "id": "e97be6ef",
   "metadata": {},
   "outputs": [],
   "source": [
    "secant(sin, search_area, 0.0001, 4)"
   ]
  },
  {
   "cell_type": "markdown",
   "id": "a9f278be",
   "metadata": {},
   "source": [
    "## 3. Метод Ньютона в многомерном случае."
   ]
  },
  {
   "cell_type": "code",
   "execution_count": 32,
   "id": "d4921b7d",
   "metadata": {},
   "outputs": [],
   "source": [
    "def minimal_error(A, f, e):\n",
    "    \"\"\"Функция реализует метод наименьших невязок решения СЛАУ.\n",
    "    Принимает матрицу А левой части и вектор f правой части, \n",
    "    необходимую точность e. Возвращает вектор решения\"\"\"\n",
    "    x = []\n",
    "    r = []\n",
    "    x.append(f)\n",
    "    error = 100\n",
    "    \n",
    "    while error > e:\n",
    "        r.append(A.dot(x[-1]) - f)\n",
    "        A_r = A.dot(r[-1])\n",
    "        t = np.transpose(A_r).dot(r[-1]) / np.transpose(A_r).dot(A_r)\n",
    "        x.append(x[-1] - t * r[-1])\n",
    "        error = np.linalg.norm(r[-1])\n",
    "\n",
    "    return x[-1]"
   ]
  },
  {
   "cell_type": "code",
   "execution_count": 90,
   "id": "3b086c97",
   "metadata": {},
   "outputs": [],
   "source": [
    "def Gauss(A, f):\n",
    "    \"\"\"Функция Gauss реализует метод Гаусса, \n",
    "    принимает на вход матрицу A, вектор правой части f, \n",
    "    возвращает решение СЛАУ\"\"\"\n",
    "    leading_element_inds = np.transpose(np.nonzero(np.abs(A) == np.abs(A).max()))[0]\n",
    "    A_f = np.hstack((A, f))\n",
    "    A_f[[0, leading_element_inds[0]]] = A_f[[leading_element_inds[0], 0]]\n",
    "    A_f[:, [0, leading_element_inds[1]]] = A_f[:, [leading_element_inds[1], 0]]\n",
    "\n",
    "    for j in range(0, A_f.shape[0] - 1):\n",
    "        for i in range(j + 1, A_f.shape[0]):\n",
    "            k = A_f[i, j] / A_f[j, j]\n",
    "            A_f[i, j:] = A_f[i, j:] - A_f[j, j:] * k\n",
    "    \n",
    "            \n",
    "    for j in range(A_f.shape[0] - 1, 0, -1):\n",
    "        for i in range(j - 1, -1, -1):\n",
    "            k = A_f[i, j] / A_f[j, j]\n",
    "            A_f[i, :] = A_f[i, :] - A_f[j, :] * k\n",
    "    \n",
    "            \n",
    "    for i in range(A_f.shape[0]):\n",
    "        A_f[i, :] = A_f[i, :] / A_f[i, i]\n",
    "    \n",
    " \n",
    "    answer = A_f[:, -1]\n",
    "    answer[[0, leading_element_inds[1]]] = answer[[leading_element_inds[1], 0]]\n",
    "    \n",
    "    \n",
    "    return answer.reshape(-1, 1)  "
   ]
  },
  {
   "cell_type": "code",
   "execution_count": 95,
   "id": "f81b7064",
   "metadata": {},
   "outputs": [],
   "source": [
    "def multidimensional_Newton(f, J, x0, e_x):\n",
    "    x = []\n",
    "    x.append(x0)\n",
    "    e_for_systems = e_x / 100\n",
    "    \n",
    "    A = J(x[-1])\n",
    "    b = J(x[-1]).dot(x[-1]) - f(x[-1])\n",
    "    x.append(Gauss(A, b))\n",
    "    error = np.linalg.norm(x[-1] - x[-2])\n",
    "    \n",
    "    while error >= e_x:\n",
    "        A = J(x[-1])\n",
    "        b = J(x[-1]).dot(x[-1]) - f(x[-1])\n",
    "        x.append(Gauss(A, b))\n",
    "        error = np.linalg.norm(x[-1] - x[-2])\n",
    "    \n",
    "    return x[-1]  \n",
    "  "
   ]
  },
  {
   "cell_type": "code",
   "execution_count": 76,
   "id": "be3c7ff7",
   "metadata": {},
   "outputs": [],
   "source": [
    "def f_m(x):\n",
    "    return ([[x[0, 0] * x[0, 0] + x[1, 0] * x[1, 0]], [2 * x[0, 0] * x[0, 0] + x[1, 0] * x[1, 0]]])    "
   ]
  },
  {
   "cell_type": "code",
   "execution_count": 75,
   "id": "8036e4fa",
   "metadata": {},
   "outputs": [],
   "source": [
    "def J_m(x):\n",
    "    return np.array([[2. * x[0, 0], 2. * x[1, 0]], [4. * x[0, 0], 2. * x[1, 0]]])"
   ]
  },
  {
   "cell_type": "code",
   "execution_count": 100,
   "id": "bda1b274",
   "metadata": {},
   "outputs": [
    {
     "data": {
      "text/plain": [
       "array([[0.00061035],\n",
       "       [0.00061035]])"
      ]
     },
     "execution_count": 100,
     "metadata": {},
     "output_type": "execute_result"
    }
   ],
   "source": [
    "multidimensional_Newton(f_m, J_m, np.array([[10.], [10.]]), 0.001)"
   ]
  }
 ],
 "metadata": {
  "kernelspec": {
   "display_name": "Python 3.9.5 64-bit",
   "language": "python",
   "name": "python395jvsc74a57bd0e0c39c2aa61344fb27ff6fb4f3a259e590cdda2eaea03f0e509c852643cc86c0"
  },
  "language_info": {
   "codemirror_mode": {
    "name": "ipython",
    "version": 3
   },
   "file_extension": ".py",
   "mimetype": "text/x-python",
   "name": "python",
   "nbconvert_exporter": "python",
   "pygments_lexer": "ipython3",
   "version": "3.9.5"
  }
 },
 "nbformat": 4,
 "nbformat_minor": 5
}
