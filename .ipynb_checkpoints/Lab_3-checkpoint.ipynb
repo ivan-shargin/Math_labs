{
 "cells": [
  {
   "cell_type": "markdown",
   "id": "9d9aa1a4",
   "metadata": {},
   "source": [
    "# Лабораторная работа 3"
   ]
  },
  {
   "cell_type": "code",
   "execution_count": 101,
   "id": "7dd5cb1e",
   "metadata": {},
   "outputs": [],
   "source": [
    "import numpy as np\n",
    "import matplotlib.pyplot as plt\n",
    "import math"
   ]
  },
  {
   "cell_type": "markdown",
   "id": "2db4c80f",
   "metadata": {},
   "source": [
    "Решим уравнение f(x) = 0. f(x) - сеточная функция."
   ]
  },
  {
   "cell_type": "markdown",
   "id": "256c2160",
   "metadata": {},
   "source": [
    "## 1. Метод бисекции"
   ]
  },
  {
   "cell_type": "code",
   "execution_count": 102,
   "id": "4d5a80cf",
   "metadata": {},
   "outputs": [],
   "source": [
    "def sign(a):\n",
    "    if a > 0:\n",
    "        return 1\n",
    "    elif a < 0:\n",
    "        return -1\n",
    "    else:\n",
    "        return 0"
   ]
  },
  {
   "cell_type": "code",
   "execution_count": 103,
   "id": "ab3a4bb2",
   "metadata": {},
   "outputs": [],
   "source": [
    "def f(x):\n",
    "    return (x-1) * (x-1)"
   ]
  },
  {
   "cell_type": "code",
   "execution_count": 104,
   "id": "1c0c70b6",
   "metadata": {},
   "outputs": [],
   "source": [
    "def sin(x):\n",
    "    return np.sin(x)"
   ]
  },
  {
   "cell_type": "code",
   "execution_count": 105,
   "id": "a49a0fd2",
   "metadata": {},
   "outputs": [],
   "source": [
    "def bisection(f, search_area, e_x):\n",
    "#     N = F_arr.shape[0]\n",
    "#     roots = []\n",
    "#     i0 = 0\n",
    "#     j0 = -1\n",
    "#     while sign(F_arr[i0]) == sign(F_arr[j0]) and i0 <= N-1:\n",
    "#         i0 += 1\n",
    "#     if i0 == N-1:\n",
    "#         print('Cant find roots')\n",
    "#     error_x = \n",
    "    start = search_area[0]\n",
    "    finish = search_area[1]\n",
    "    error_x = finish - start\n",
    "    while error_x >= e_x:        \n",
    "        med = (start + finish) / 2\n",
    "        if f(med) == 0:\n",
    "            return(med)\n",
    "        elif sign(f(start)) != sign(f(med)):\n",
    "            finish = med\n",
    "        else:\n",
    "            start = med\n",
    "        error_x = finish - start\n",
    "        \n",
    "    return (start + finish) / 2\n",
    "            \n",
    "            \n",
    "        "
   ]
  },
  {
   "cell_type": "code",
   "execution_count": 106,
   "id": "847eaf71",
   "metadata": {},
   "outputs": [
    {
     "data": {
      "text/plain": [
       "3.1412353515625"
      ]
     },
     "execution_count": 106,
     "metadata": {},
     "output_type": "execute_result"
    }
   ],
   "source": [
    "search_area = np.array([2.5, 4])\n",
    "bisection(sin, search_area, 0.001)"
   ]
  },
  {
   "cell_type": "markdown",
   "id": "8a13ceb3",
   "metadata": {},
   "source": [
    "## 2а Метод Хорд."
   ]
  },
  {
   "cell_type": "code",
   "execution_count": 107,
   "id": "939d949d",
   "metadata": {},
   "outputs": [],
   "source": [
    "def chord_method(f, search_area, e_x, x0, x1):\n",
    "    x = []\n",
    "    x.append(x0)\n",
    "    x.append(x1)\n",
    "    while np.abs(x[-1] - x[-2]) >= e_x:\n",
    "        x.append(x[-1] - f(x[-1]) * (x[-1] - x[-2]) / (f(x[-1]) - f(x[-2])))\n",
    "    print('root:')\n",
    "    print(x[-1])\n",
    "    print('multiplicity:')\n",
    "    q = (x[-1] - x[-2]) / (x[-2] - x[-3])\n",
    "    multiplicity = 1 / (1 - q)\n",
    "    print(multiplicity)"
   ]
  },
  {
   "cell_type": "code",
   "execution_count": 108,
   "id": "d809a16d",
   "metadata": {},
   "outputs": [
    {
     "name": "stdout",
     "output_type": "stream",
     "text": [
      "root:\n",
      "3.1415928314307444\n",
      "multiplicity:\n",
      "0.9797203571086006\n"
     ]
    }
   ],
   "source": [
    "chord_method(sin, search_area, 0.001, 4 , 4.1)"
   ]
  },
  {
   "cell_type": "markdown",
   "id": "55c5f919",
   "metadata": {},
   "source": [
    "## 2b Метод Ньютона"
   ]
  },
  {
   "cell_type": "code",
   "execution_count": 109,
   "id": "be33b4cb",
   "metadata": {},
   "outputs": [],
   "source": [
    "def Newton(f, search_area, e_x, x0):\n",
    "    x = []\n",
    "    x.append(x0)\n",
    "    \n",
    "    h = e_x \n",
    "    dif = (f(x[-1] + h) - f(x[-1] - h)) / (2 * h)\n",
    "    if dif == 0:\n",
    "            dif += e_x\n",
    "            \n",
    "    x.append(x[-1] - f(x[-1]) / dif)\n",
    "    \n",
    "    i = 0\n",
    "    while np.abs(x[-1] - x[-2]) >= e_x and i <= 100000:\n",
    "        dif = (f(x[-1] + h) - f(x[-1] - h)) / (2 * h)\n",
    "        if dif == 0:\n",
    "            dif += e_x\n",
    "        x.append(x[-1] - f(x[-1]) / dif)\n",
    "        i += 1\n",
    "        \n",
    "    print('root:')\n",
    "    print(x[-1])\n",
    "    print('multiplicity:')\n",
    "    q = (x[-1] - x[-2]) / (x[-2] - x[-3])\n",
    "    multiplicity = 1 / (1 - q)\n",
    "    print(multiplicity)"
   ]
  },
  {
   "cell_type": "code",
   "execution_count": 110,
   "id": "46e7e118",
   "metadata": {},
   "outputs": [
    {
     "name": "stdout",
     "output_type": "stream",
     "text": [
      "root:\n",
      "1.0000000000873117\n",
      "multiplicity:\n",
      "2.0\n"
     ]
    }
   ],
   "source": [
    "Newton(f, search_area, 0.0000000001, 4)"
   ]
  },
  {
   "cell_type": "markdown",
   "id": "afc25bee",
   "metadata": {},
   "source": [
    "## 2c Метод секущей"
   ]
  },
  {
   "cell_type": "code",
   "execution_count": 111,
   "id": "a7516093",
   "metadata": {},
   "outputs": [],
   "source": [
    "def secant(f, search_area, e_x, x0):\n",
    "    x = []\n",
    "    x.append(x0)\n",
    "    h = e_x\n",
    "    dif = (f(x[-1] + h) - f(x[-1] - h)) / (2 * h)\n",
    "    if dif == 0:\n",
    "        print(\"Can't solve. Dif = 0 \")\n",
    "        return -1\n",
    "    x.append(x[-1] - f(x[-1]) / dif)\n",
    "    i = 0\n",
    "    while np.abs(x[-1] - x[-2]) >= e_x and i <= 100000:\n",
    "        if dif == 0:\n",
    "            dif += e_x\n",
    "        x.append(x[-1] - f(x[-1]) / dif)\n",
    "        i += 1\n",
    "    print('root:')\n",
    "    print(x[-1])\n",
    "    print('multiplicity:')\n",
    "    q = (x[-1] - x[-2]) / (x[-2] - x[-3])\n",
    "    multiplicity = 1 / (1 - q)\n",
    "    print(multiplicity)"
   ]
  },
  {
   "cell_type": "code",
   "execution_count": 112,
   "id": "e97be6ef",
   "metadata": {},
   "outputs": [
    {
     "name": "stdout",
     "output_type": "stream",
     "text": [
      "root:\n",
      "3.14161322497206\n",
      "multiplicity:\n",
      "0.6536436202135762\n"
     ]
    }
   ],
   "source": [
    "secant(sin, search_area, 0.0001, 4)"
   ]
  },
  {
   "cell_type": "markdown",
   "id": "6ba7b8cc",
   "metadata": {},
   "source": [
    "## 3. Метод Ньютона в многомерном случае."
   ]
  },
  {
   "cell_type": "code",
   "execution_count": 113,
   "id": "09a5f412",
   "metadata": {},
   "outputs": [],
   "source": [
    "def minimal_error(A, f, e):\n",
    "    \"\"\"Функция реализует метод наименьших невязок решения СЛАУ.\n",
    "    Принимает матрицу А левой части и вектор f правой части, \n",
    "    необходимую точность e. Возвращает вектор решения\"\"\"\n",
    "    x = []\n",
    "    r = []\n",
    "    x.append(f)\n",
    "    error = 100\n",
    "    \n",
    "    while error > e:\n",
    "        r.append(A.dot(x[-1]) - f)\n",
    "        A_r = A.dot(r[-1])\n",
    "        t = np.transpose(A_r).dot(r[-1]) / np.transpose(A_r).dot(A_r)\n",
    "        x.append(x[-1] - t * r[-1])\n",
    "        error = np.linalg.norm(r[-1])\n",
    "\n",
    "    return x[-1]"
   ]
  },
  {
   "cell_type": "code",
   "execution_count": 114,
   "id": "8aba1a4c",
   "metadata": {},
   "outputs": [],
   "source": [
    "def Gauss(A, f):\n",
    "    \"\"\"Функция Gauss реализует метод Гаусса, \n",
    "    принимает на вход матрицу A, вектор правой части f, \n",
    "    возвращает решение СЛАУ\"\"\"\n",
    "    leading_element_inds = np.transpose(np.nonzero(np.abs(A) == np.abs(A).max()))[0]\n",
    "    A_f = np.hstack((A, f))\n",
    "    A_f[[0, leading_element_inds[0]]] = A_f[[leading_element_inds[0], 0]]\n",
    "    A_f[:, [0, leading_element_inds[1]]] = A_f[:, [leading_element_inds[1], 0]]\n",
    "\n",
    "    for j in range(0, A_f.shape[0] - 1):\n",
    "        for i in range(j + 1, A_f.shape[0]):\n",
    "            k = A_f[i, j] / A_f[j, j]\n",
    "            A_f[i, j:] = A_f[i, j:] - A_f[j, j:] * k\n",
    "    \n",
    "            \n",
    "    for j in range(A_f.shape[0] - 1, 0, -1):\n",
    "        for i in range(j - 1, -1, -1):\n",
    "            k = A_f[i, j] / A_f[j, j]\n",
    "            A_f[i, :] = A_f[i, :] - A_f[j, :] * k\n",
    "    \n",
    "            \n",
    "    for i in range(A_f.shape[0]):\n",
    "        A_f[i, :] = A_f[i, :] / A_f[i, i]\n",
    "    \n",
    " \n",
    "    answer = A_f[:, -1]\n",
    "    answer[[0, leading_element_inds[1]]] = answer[[leading_element_inds[1], 0]]\n",
    "    \n",
    "    \n",
    "    return answer.reshape(-1, 1)  "
   ]
  },
  {
   "cell_type": "code",
   "execution_count": 115,
   "id": "549dc25c",
   "metadata": {},
   "outputs": [],
   "source": [
    "def multidimensional_Newton(f, J, x0, e_x):\n",
    "    x = []\n",
    "    x.append(x0)\n",
    "    e_for_systems = e_x / 100\n",
    "    \n",
    "    A = J(x[-1])\n",
    "    b = J(x[-1]).dot(x[-1]) - f(x[-1])\n",
    "    x.append(Gauss(A, b))\n",
    "    error = np.linalg.norm(x[-1] - x[-2])\n",
    "    \n",
    "    while error >= e_x:\n",
    "        A = J(x[-1])\n",
    "        b = J(x[-1]).dot(x[-1]) - f(x[-1])\n",
    "        x.append(Gauss(A, b))\n",
    "        error = np.linalg.norm(x[-1] - x[-2])\n",
    "    \n",
    "    return x[-1]  \n",
    "  "
   ]
  },
  {
   "cell_type": "code",
   "execution_count": 116,
   "id": "aa260c94",
   "metadata": {},
   "outputs": [],
   "source": [
    "def f_m(x):\n",
    "    return ([[x[0, 0] * x[0, 0] + x[1, 0] * x[1, 0]], [2 * x[0, 0] * x[0, 0] + x[1, 0] * x[1, 0]]])    "
   ]
  },
  {
   "cell_type": "code",
   "execution_count": 117,
   "id": "f0885b27",
   "metadata": {},
   "outputs": [],
   "source": [
    "def J_m(x):\n",
    "    return np.array([[2. * x[0, 0], 2. * x[1, 0]], [4. * x[0, 0], 2. * x[1, 0]]])"
   ]
  },
  {
   "cell_type": "code",
   "execution_count": 118,
   "id": "06648594",
   "metadata": {},
   "outputs": [
    {
     "data": {
      "text/plain": [
       "array([[0.00061035],\n",
       "       [0.00061035]])"
      ]
     },
     "execution_count": 118,
     "metadata": {},
     "output_type": "execute_result"
    }
   ],
   "source": [
    "multidimensional_Newton(f_m, J_m, np.array([[10.], [10.]]), 0.001)"
   ]
  }
 ],
 "metadata": {
  "kernelspec": {
   "display_name": "Python 3.9.5 64-bit",
   "language": "python",
   "name": "python395jvsc74a57bd0e0c39c2aa61344fb27ff6fb4f3a259e590cdda2eaea03f0e509c852643cc86c0"
  },
  "language_info": {
   "codemirror_mode": {
    "name": "ipython",
    "version": 3
   },
   "file_extension": ".py",
   "mimetype": "text/x-python",
   "name": "python",
   "nbconvert_exporter": "python",
   "pygments_lexer": "ipython3",
   "version": "3.9.5"
  }
 },
 "nbformat": 4,
 "nbformat_minor": 5
}
