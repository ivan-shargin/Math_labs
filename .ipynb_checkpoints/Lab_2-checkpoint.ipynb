{
 "cells": [
  {
   "cell_type": "markdown",
   "id": "1bcff797",
   "metadata": {},
   "source": [
    "# Лабораторная работа 2. Элементы линейной алгебры. Шаргин Иван"
   ]
  },
  {
   "cell_type": "code",
   "execution_count": 10,
   "id": "ddbe48cb",
   "metadata": {},
   "outputs": [],
   "source": [
    "import numpy as np\n",
    "import matplotlib.pyplot as plt"
   ]
  },
  {
   "cell_type": "markdown",
   "id": "364acb2e",
   "metadata": {},
   "source": [
    "Решим СЛАУ A * u = f "
   ]
  },
  {
   "cell_type": "markdown",
   "id": "503f1510",
   "metadata": {},
   "source": [
    "## 1. Метод Гаусса"
   ]
  },
  {
   "cell_type": "markdown",
   "id": "3fa6a4ad",
   "metadata": {},
   "source": [
    "Функция Gauss_solve реализует метод Гаусса, принимает на вход матрицу A, вектор правой части f, возвращает решение u"
   ]
  },
  {
   "cell_type": "code",
   "execution_count": 11,
   "id": "71ed7160",
   "metadata": {},
   "outputs": [],
   "source": [
    "def Gauss(A, f):\n",
    "    \"\"\"Функция Gauss реализует метод Гаусса, \n",
    "    принимает на вход матрицу A, вектор правой части f, \n",
    "    возвращает решение СЛАУ\"\"\"\n",
    "    leading_element_inds = np.transpose(np.nonzero(np.abs(A) == np.abs(A).max()))[0]\n",
    "    A_f = np.hstack((A, f))\n",
    "    A_f[[0, leading_element_inds[0]]] = A_f[[leading_element_inds[0], 0]]\n",
    "    A_f[:, [0, leading_element_inds[1]]] = A_f[:, [leading_element_inds[1], 0]]\n",
    "\n",
    "    for j in range(0, A_f.shape[0] - 1):\n",
    "        for i in range(j + 1, A_f.shape[0]):\n",
    "            k = A_f[i, j] / A_f[j, j]\n",
    "            A_f[i, j:] = A_f[i, j:] - A_f[j, j:] * k\n",
    "    \n",
    "            \n",
    "    for j in range(A_f.shape[0] - 1, 0, -1):\n",
    "        for i in range(j - 1, -1, -1):\n",
    "            k = A_f[i, j] / A_f[j, j]\n",
    "            A_f[i, :] = A_f[i, :] - A_f[j, :] * k\n",
    "    \n",
    "            \n",
    "    for i in range(A_f.shape[0]):\n",
    "        A_f[i, :] = A_f[i, :] / A_f[i, i]\n",
    "    \n",
    " \n",
    "    answer = A_f[:, -1]\n",
    "    answer[[0, leading_element_inds[1]]] = answer[[leading_element_inds[1], 0]]\n",
    "    \n",
    "    \n",
    "    return answer  \n"
   ]
  },
  {
   "cell_type": "code",
   "execution_count": 12,
   "id": "039eae92",
   "metadata": {},
   "outputs": [
    {
     "name": "stdout",
     "output_type": "stream",
     "text": [
      "[[ 5.  7.  6.]\n",
      " [ 4.  8.  3.]\n",
      " [-1.  6.  2.]]\n",
      "[[35.]\n",
      " [25.]\n",
      " [10.]]\n",
      "[2. 1. 3.]\n"
     ]
    }
   ],
   "source": [
    "A_test = np.array([[5.0, 7.0, 6.0], [4.0, 8.0, 3.0],  [-1.0, 6.0, 2.0]])\n",
    "print(A_test)\n",
    "f_test = np.array([[35.0], [25.0], [10.0]])\n",
    "print(f_test)\n",
    "print(Gauss(A_test, f_test))"
   ]
  },
  {
   "cell_type": "markdown",
   "id": "d193aa55",
   "metadata": {},
   "source": [
    "## 2.Метод Якоби решения СЛАУ"
   ]
  },
  {
   "cell_type": "code",
   "execution_count": 22,
   "id": "d37378de",
   "metadata": {},
   "outputs": [],
   "source": [
    "def Jacobi(A, f, e):\n",
    "    \"\"\"Функция реализует метод Якоби решения СЛАУ.\n",
    "    Принимает матрицу А левой части и вектор f правой части, \n",
    "    необходимую точность e. Возвращает вектор решения\"\"\"\n",
    "    N = A.shape[0]\n",
    "    diagonal = A.diagonal()\n",
    "    \n",
    "    x = []\n",
    "    x.append(f)\n",
    "    x_new = f\n",
    "    error = 100    \n",
    "    \n",
    "    while error >= e:\n",
    "        a_x = A.dot(x[-1])\n",
    "        x.append(np.array([(f[i] - a_x[i] + x[-1] [i] * diagonal[i]) / diagonal[i] for i in range(N)]))\n",
    "        \n",
    "        error = np.linalg.norm(x[-2] - x[-1]) \n",
    "                 \n",
    "    return (x[-1])  "
   ]
  },
  {
   "cell_type": "code",
   "execution_count": 24,
   "id": "0eae7154",
   "metadata": {},
   "outputs": [],
   "source": [
    "A_j = np.array([[5., 2.], [1., 5.]])\n",
    "f_j = np.array([[7.], [6.]])"
   ]
  },
  {
   "cell_type": "code",
   "execution_count": 26,
   "id": "11a9f4f6",
   "metadata": {},
   "outputs": [
    {
     "data": {
      "text/plain": [
       "array([[0.998976 ],\n",
       "       [0.9993856]])"
      ]
     },
     "execution_count": 26,
     "metadata": {},
     "output_type": "execute_result"
    }
   ],
   "source": [
    "Jacobi(A_j, f_j, 0.01)\n"
   ]
  },
  {
   "cell_type": "code",
   "execution_count": null,
   "id": "31e25dd3",
   "metadata": {},
   "outputs": [],
   "source": [
    "A_test.dot(f_test)"
   ]
  }
 ],
 "metadata": {
  "kernelspec": {
   "display_name": "Python 3.9.5 64-bit",
   "language": "python",
   "name": "python395jvsc74a57bd0e0c39c2aa61344fb27ff6fb4f3a259e590cdda2eaea03f0e509c852643cc86c0"
  },
  "language_info": {
   "codemirror_mode": {
    "name": "ipython",
    "version": 3
   },
   "file_extension": ".py",
   "mimetype": "text/x-python",
   "name": "python",
   "nbconvert_exporter": "python",
   "pygments_lexer": "ipython3",
   "version": "3.9.5"
  }
 },
 "nbformat": 4,
 "nbformat_minor": 5
}
