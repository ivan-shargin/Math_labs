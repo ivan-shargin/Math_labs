{
 "cells": [
  {
   "cell_type": "markdown",
   "id": "7a4abb51",
   "metadata": {},
   "source": [
    "Краевая задача"
   ]
  },
  {
   "cell_type": "code",
   "execution_count": 1,
   "id": "db20bb69",
   "metadata": {},
   "outputs": [],
   "source": [
    "import numpy as np\n",
    "import matplotlib.pyplot as plt\n",
    "import scipy.integrate"
   ]
  },
  {
   "cell_type": "code",
   "execution_count": 52,
   "id": "958c729a",
   "metadata": {},
   "outputs": [],
   "source": [
    "left_cond = {\"x\": 0, \"U\": -1}\n",
    "right_cond = {\"x\": 1, \"U\": 0}"
   ]
  },
  {
   "cell_type": "code",
   "execution_count": 3,
   "id": "c2534384",
   "metadata": {},
   "outputs": [],
   "source": [
    "class edge_problem:\n",
    "    def __init__(self, p, q, f, left_cond, right_cond):\n",
    "        self.p = p\n",
    "        self.q = q\n",
    "        self.f = f\n",
    "        self.left_cond = left_cond\n",
    "        self.right_cond = right_cond\n",
    "    "
   ]
  },
  {
   "cell_type": "code",
   "execution_count": 26,
   "id": "c892a539",
   "metadata": {},
   "outputs": [],
   "source": [
    "class Shooting:\n",
    "    def __init__(self, edge_problem):\n",
    "        self.p = edge_problem.p\n",
    "        self.q = edge_problem.q\n",
    "        self.f = edge_problem.f\n",
    "        self.left_cond = edge_problem.left_cond\n",
    "        self.right_cond = edge_problem.right_cond\n",
    "#         self.A = np.array([[-p, -q], [1, 0]])\n",
    "        self.x_band = (self.left_cond[\"x\"], self.right_cond[\"x\"])\n",
    "    \n",
    "    def two_dim_form(self, x, y):\n",
    "        return np.array([-self.p(x) * y[0] - self.q * y[1] + self.f(x), y[0]])        \n",
    "    \n",
    "    def shoot(self, der_0, max_step):\n",
    "        y0 = np.array([der_0, self.left_cond[\"U\"]])\n",
    "        shot = scipy.integrate.solve_ivp(self.two_dim_form, self.x_band, y0, method='RK45', max_step=max_step)\n",
    "        plt.figure(figsize = [5, 5])\n",
    "        plt.title('Shot')\n",
    "        print(shot.y.shape)\n",
    "        plt.plot(shot.t, shot.y[1, :])\n",
    "        \n",
    "        \n",
    "    \n",
    "    def solve(self):\n",
    "        pass\n",
    "    \n",
    "    "
   ]
  },
  {
   "cell_type": "code",
   "execution_count": 20,
   "id": "932115c4",
   "metadata": {},
   "outputs": [],
   "source": [
    "def f(x):\n",
    "    return 0"
   ]
  },
  {
   "cell_type": "code",
   "execution_count": 21,
   "id": "96468173",
   "metadata": {},
   "outputs": [],
   "source": [
    "def p(x):\n",
    "    return 0"
   ]
  },
  {
   "cell_type": "code",
   "execution_count": 53,
   "id": "d06f1384",
   "metadata": {},
   "outputs": [],
   "source": [
    "problem = edge_problem(p, -1, f, left_cond, right_cond)"
   ]
  },
  {
   "cell_type": "code",
   "execution_count": 54,
   "id": "ea93a82e",
   "metadata": {},
   "outputs": [],
   "source": [
    "shooting = Shooting(problem)"
   ]
  },
  {
   "cell_type": "code",
   "execution_count": 55,
   "id": "380286bd",
   "metadata": {},
   "outputs": [
    {
     "name": "stdout",
     "output_type": "stream",
     "text": [
      "(2, 10002)\n"
     ]
    },
    {
     "data": {
      "image/png": "[encoded data removed]",
      "text/plain": [
       "<Figure size 360x360 with 1 Axes>"
      ]
     },
     "metadata": {
      "needs_background": "light"
     },
     "output_type": "display_data"
    }
   ],
   "source": [
    "shooting.shoot(-1, 1e-4)"
   ]
  },
  {
   "cell_type": "code",
   "execution_count": 12,
   "id": "b22a5489",
   "metadata": {},
   "outputs": [],
   "source": [
    "def presize_solution(x):\n",
    "    return (1-1.5*np.pi)*np.sin(x)/x + np.cos(x)/x + 1/x"
   ]
  },
  {
   "cell_type": "code",
   "execution_count": 14,
   "id": "44bf293a",
   "metadata": {},
   "outputs": [
    {
     "data": {
      "text/plain": [
       "[<matplotlib.lines.Line2D at 0x203b12ac6a0>]"
      ]
     },
     "execution_count": 14,
     "metadata": {},
     "output_type": "execute_result"
    },
    {
     "data": {
      "image/png": "[encoded data removed]",
      "text/plain": [
       "<Figure size 360x360 with 1 Axes>"
      ]
     },
     "metadata": {
      "needs_background": "light"
     },
     "output_type": "display_data"
    }
   ],
   "source": [
    "plt.figure(figsize=[5, 5])\n",
    "x_band = np.linspace(np.pi, 1.5*np.pi, 1000)\n",
    "plt.plot(x_band, presize_solution(x_band))"
   ]
  }
 ],
 "metadata": {
  "kernelspec": {
   "display_name": "Python 3.9.5 64-bit",
   "language": "python",
   "name": "python395jvsc74a57bd0e0c39c2aa61344fb27ff6fb4f3a259e590cdda2eaea03f0e509c852643cc86c0"
  },
  "language_info": {
   "codemirror_mode": {
    "name": "ipython",
    "version": 3
   },
   "file_extension": ".py",
   "mimetype": "text/x-python",
   "name": "python",
   "nbconvert_exporter": "python",
   "pygments_lexer": "ipython3",
   "version": "3.9.5"
  }
 },
 "nbformat": 4,
 "nbformat_minor": 5
}
