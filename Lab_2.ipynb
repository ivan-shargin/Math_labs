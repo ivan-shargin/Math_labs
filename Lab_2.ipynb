{
 "cells": [
  {
   "cell_type": "markdown",
   "id": "1bcff797",
   "metadata": {},
   "source": [
    "# Лабораторная работа 2. Элементы линейной алгебры. Шаргин Иван"
   ]
  },
  {
   "cell_type": "code",
   "execution_count": 6,
   "id": "ddbe48cb",
   "metadata": {},
   "outputs": [],
   "source": [
    "import numpy as np\n",
    "import matplotlib.pyplot as plt"
   ]
  },
  {
   "cell_type": "markdown",
   "id": "364acb2e",
   "metadata": {},
   "source": [
    "Решим СЛАУ A * u = f "
   ]
  },
  {
   "cell_type": "markdown",
   "id": "503f1510",
   "metadata": {},
   "source": [
    "## 1. Метод Гаусса"
   ]
  },
  {
   "cell_type": "markdown",
   "id": "3fa6a4ad",
   "metadata": {},
   "source": [
    "Функция Gauss_solve реализует метод Гаусса, принимает на вход матрицу A, вектор правой части f, возвращает решение u"
   ]
  },
  {
   "cell_type": "code",
<<<<<<< HEAD:Lab_2.ipynb
   "execution_count": 7,
=======
   "execution_count": 9,
   "id": "bb48bea6",
   "metadata": {},
   "outputs": [],
   "source": [
    "def Gauss_solve(A, f):\n",
    "    \"\"\"Функция Gauss_solve реализует метод Гаусса, \n",
    "    принимает на вход матрицу A, вектор правой части f, \n",
    "    возвращает решение u\"\"\"\n",
    "    return Gauss_reverse(enumerate(straight_Gauss(A, f)))\n",
    "    \n",
    "    "
   ]
  },
  {
   "cell_type": "code",
   "execution_count": 13,
   "id": "4a764e57",
   "metadata": {},
   "outputs": [],
   "source": [
    "def str_Gauss_step(A_f):\n",
    "    \"\"\"One step of the Gauss algorithm\"\"\"\n",
    "    \n",
    "    for i in range(1, A_f.shape[0]):\n",
    "        k = A_f[i, 0] / A_f[0, 0]\n",
    "        A_f[i, :] = A_f[i, :] - A_f[0, :] * k\n",
    "    return A_f"
   ]
  },
  {
   "cell_type": "code",
   "execution_count": 63,
>>>>>>> parent of 4c3ab4e (Update Lab_2_Shargin.ipynb):Lab_2_Shargin.ipynb
   "id": "71ed7160",
   "metadata": {},
   "outputs": [],
   "source": [
    "def Gauss(A, f):\n",
    "    \"\"\"Функция Gauss реализует метод Гаусса, \n",
    "    принимает на вход матрицу A, вектор правой части f, \n",
    "    возвращает решение СЛАУ\"\"\"\n",
    "    leading_element_inds = np.transpose(np.nonzero(np.abs(A) == np.abs(A).max()))[0]\n",
    "    A_f = np.hstack((A, f))\n",
    "    A_f[[0, leading_element_inds[0]]] = A_f[[leading_element_inds[0], 0]]\n",
    "    A_f[:, [0, leading_element_inds[1]]] = A_f[:, [leading_element_inds[1], 0]]\n",
<<<<<<< HEAD:Lab_2.ipynb
    "\n",
    "    for j in range(0, A_f.shape[0] - 1):\n",
=======
    "    \n",
    "    for j in range(0, A_f.shape[0]):\n",
>>>>>>> parent of 4c3ab4e (Update Lab_2_Shargin.ipynb):Lab_2_Shargin.ipynb
    "        for i in range(j + 1, A_f.shape[0]):\n",
    "            k = A_f[i, j] / A_f[j, j]\n",
    "            A_f[i, j:] = A_f[i, j:] - A_f[j, j:] * k\n",
    "    \n",
    "            \n",
<<<<<<< HEAD:Lab_2.ipynb
    "    for j in range(A_f.shape[0] - 1, 0, -1):\n",
    "        for i in range(j - 1, -1, -1):\n",
    "            k = A_f[i, j] / A_f[j, j]\n",
    "            A_f[i, :] = A_f[i, :] - A_f[j, :] * k\n",
    "    \n",
    "            \n",
    "    for i in range(A_f.shape[0]):\n",
    "        A_f[i, :] = A_f[i, :] / A_f[i, i]\n",
    "    \n",
    " \n",
    "    answer = A_f[:, -1]\n",
    "    answer[[0, leading_element_inds[1]]] = answer[[leading_element_inds[1], 0]]\n",
    "    \n",
    "    \n",
    "    return answer  \n"
=======
    "#     for j in range(A_f.shape[0] - 1, 0, -1):\n",
    "#         for i in range(j - 1, -1, -1):\n",
    "#             k = A_f[i, j] / A_f[j, j]\n",
    "#             A_f[i, :] = A_f[i, :] - A_f[j, :] * k\n",
    "    \n",
    "    \n",
    "    return A_f    \n",
    "    \n",
    " \n",
    "   \n",
    "    \n"
>>>>>>> parent of 4c3ab4e (Update Lab_2_Shargin.ipynb):Lab_2_Shargin.ipynb
   ]
  },
  {
   "cell_type": "code",
<<<<<<< HEAD:Lab_2.ipynb
   "execution_count": 12,
   "id": "039eae92",
=======
   "execution_count": 51,
   "id": "743bfccc",
>>>>>>> parent of 4c3ab4e (Update Lab_2_Shargin.ipynb):Lab_2_Shargin.ipynb
   "metadata": {},
   "outputs": [
    {
     "name": "stdout",
     "output_type": "stream",
     "text": [
      "[[ 5.  7.  6.]\n",
      " [ 4.  8.  3.]\n",
      " [-1.  6.  2.]]\n",
      "[[35.]\n",
      " [25.]\n",
      " [10.]]\n",
      "[2. 1. 3.]\n"
     ]
    }
   ],
   "source": [
    "A_test = np.array([[5.0, 7.0, 6.0], [4.0, 8.0, 3.0],  [-1.0, 6.0, 2.0]])\n",
    "print(A_test)\n",
    "f_test = np.array([[35.0], [25.0], [10.0]])\n",
    "print(f_test)\n",
    "print(Gauss(A_test, f_test))"
   ]
  },
  {
   "cell_type": "markdown",
   "id": "d193aa55",
   "metadata": {},
   "source": [
    "## 2.Метод Якоби решения СЛАУ"
   ]
  },
  {
   "cell_type": "code",
<<<<<<< HEAD:Lab_2.ipynb
   "execution_count": 17,
   "id": "d37378de",
   "metadata": {},
   "outputs": [],
   "source": [
    "def Jacobi(A, f, e):\n",
    "    \"\"\"Функция реализует метод Якоби решения СЛАУ.\n",
    "    Принимает матрицу А левой части и вектор f правой части, \n",
    "    необходимую точность e. Возвращает вектор решения\"\"\"\n",
    "    N = A.shape[0]\n",
    "    diagonal = A.diagonal()\n",
    "    \n",
    "    x = []\n",
    "    x.append(f)\n",
    "    x_new = f\n",
    "    error = 100    \n",
    "    \n",
    "    while error >= e:\n",
    "        print(x[-1])\n",
    "        a_x = A.dot(x[-1])\n",
    "        x.append(np.ar[for i in range(N) x_new[i] = ((f[i] - a_x[i]) / diagonal[i])]\n",
    "        \n",
    "        error = np.linalg.norm(x[-2] - x[-1]) \n",
    "        \n",
    "    print(x)\n",
    "    return (x[-1])  "
=======
   "execution_count": 64,
   "id": "039eae92",
   "metadata": {},
   "outputs": [
    {
     "name": "stdout",
     "output_type": "stream",
     "text": [
      "[[ 1  0  0]\n",
      " [ 0  1  0]\n",
      " [10  0  1]]\n",
      "[[10.    0.    1.    0.3 ]\n",
      " [ 0.    1.    0.    0.2 ]\n",
      " [ 0.    0.   -0.1   0.07]]\n"
     ]
    }
   ],
   "source": [
    "A_test = np.array([[1, 0, 0 ], [0, 1, 0], [10, 0, 1]])\n",
    "print(A_test)\n",
    "f_test = np.array([[0.1], [0.2], [0.3]])\n",
    "print(straight_Gauss(A_test, f_test))"
>>>>>>> parent of 4c3ab4e (Update Lab_2_Shargin.ipynb):Lab_2_Shargin.ipynb
   ]
  },
  {
   "cell_type": "code",
   "execution_count": 10,
   "id": "0eae7154",
   "metadata": {},
   "outputs": [],
   "source": [
    "A_j = np.array([[1., 2.], [1., 1.]])\n",
    "f_j = np.array([[3.], [2.]])"
   ]
  },
  {
   "cell_type": "code",
   "execution_count": 18,
   "id": "11a9f4f6",
   "metadata": {},
   "outputs": [
    {
     "name": "stdout",
     "output_type": "stream",
     "text": [
      "[[35.]\n",
      " [25.]\n",
      " [10.]]\n",
      "[array([[-75.   ],\n",
      "       [-43.125],\n",
      "       [-62.5  ]]), array([[-75.   ],\n",
      "       [-43.125],\n",
      "       [-62.5  ]])]\n"
     ]
    },
    {
     "data": {
      "text/plain": [
       "array([[-75.   ],\n",
       "       [-43.125],\n",
       "       [-62.5  ]])"
      ]
     },
     "execution_count": 18,
     "metadata": {},
     "output_type": "execute_result"
    }
   ],
   "source": [
    "Jacobi(A_test, f_test, 0.1)\n"
   ]
  },
  {
   "cell_type": "code",
   "execution_count": null,
   "id": "31e25dd3",
   "metadata": {},
   "outputs": [],
   "source": [
    "A_test.dot(f_test)"
   ]
  }
 ],
 "metadata": {
  "kernelspec": {
   "display_name": "Python 3.9.5 64-bit",
   "language": "python",
   "name": "python395jvsc74a57bd0e0c39c2aa61344fb27ff6fb4f3a259e590cdda2eaea03f0e509c852643cc86c0"
  },
  "language_info": {
   "codemirror_mode": {
    "name": "ipython",
    "version": 3
   },
   "file_extension": ".py",
   "mimetype": "text/x-python",
   "name": "python",
   "nbconvert_exporter": "python",
   "pygments_lexer": "ipython3",
   "version": "3.9.5"
  }
 },
 "nbformat": 4,
 "nbformat_minor": 5
}
