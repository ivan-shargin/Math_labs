{
 "cells": [
  {
   "cell_type": "markdown",
   "id": "1bcff797",
   "metadata": {},
   "source": [
    "# Лабораторная работа 2. Элементы линейной алгебры. Шаргин Иван"
   ]
  },
  {
   "cell_type": "code",
   "execution_count": 2,
   "id": "ddbe48cb",
   "metadata": {},
   "outputs": [],
   "source": [
    "import numpy as np\n",
    "import matplotlib.pyplot as plt"
   ]
  },
  {
   "cell_type": "markdown",
   "id": "364acb2e",
   "metadata": {},
   "source": [
    "Решим СЛАУ A * u = f "
   ]
  },
  {
   "cell_type": "markdown",
   "id": "503f1510",
   "metadata": {},
   "source": [
    "## 1. Метод Гаусса"
   ]
  },
  {
   "cell_type": "markdown",
   "id": "3fa6a4ad",
   "metadata": {},
   "source": [
    "Функция Gauss_solve реализует метод Гаусса, принимает на вход матрицу A, вектор правой части f, возвращает решение u"
   ]
  },
  {
   "cell_type": "code",
   "execution_count": 3,
   "id": "71ed7160",
   "metadata": {},
   "outputs": [],
   "source": [
    "def Gauss(A, f):\n",
    "    \"\"\"Функция Gauss реализует метод Гаусса, \n",
    "    принимает на вход матрицу A, вектор правой части f, \n",
    "    возвращает решение СЛАУ\"\"\"\n",
    "    leading_element_inds = np.transpose(np.nonzero(np.abs(A) == np.abs(A).max()))[0]\n",
    "    A_f = np.hstack((A, f))\n",
    "    A_f[[0, leading_element_inds[0]]] = A_f[[leading_element_inds[0], 0]]\n",
    "    A_f[:, [0, leading_element_inds[1]]] = A_f[:, [leading_element_inds[1], 0]]\n",
    "\n",
    "    for j in range(0, A_f.shape[0] - 1):\n",
    "        for i in range(j + 1, A_f.shape[0]):\n",
    "            k = A_f[i, j] / A_f[j, j]\n",
    "            A_f[i, j:] = A_f[i, j:] - A_f[j, j:] * k\n",
    "    \n",
    "            \n",
    "    for j in range(A_f.shape[0] - 1, 0, -1):\n",
    "        for i in range(j - 1, -1, -1):\n",
    "            k = A_f[i, j] / A_f[j, j]\n",
    "            A_f[i, :] = A_f[i, :] - A_f[j, :] * k\n",
    "    \n",
    "            \n",
    "    for i in range(A_f.shape[0]):\n",
    "        A_f[i, :] = A_f[i, :] / A_f[i, i]\n",
    "    \n",
    " \n",
    "    answer = A_f[:, -1]\n",
    "    answer[[0, leading_element_inds[1]]] = answer[[leading_element_inds[1], 0]]\n",
    "    \n",
    "    \n",
    "    return answer  \n"
   ]
  },
  {
   "cell_type": "code",
   "execution_count": 4,
   "id": "039eae92",
   "metadata": {},
   "outputs": [
    {
     "name": "stdout",
     "output_type": "stream",
     "text": [
      "[[ 5.  7.  6.]\n",
      " [ 4.  8.  3.]\n",
      " [-1.  6.  2.]]\n",
      "[[35.]\n",
      " [25.]\n",
      " [10.]]\n",
      "[2. 1. 3.]\n"
     ]
    }
   ],
   "source": [
    "A_test = np.array([[5.0, 7.0, 6.0], [4.0, 8.0, 3.0],  [-1.0, 6.0, 2.0]])\n",
    "print(A_test)\n",
    "f_test = np.array([[35.0], [25.0], [10.0]])\n",
    "print(f_test)\n",
    "print(Gauss(A_test, f_test))"
   ]
  },
  {
   "cell_type": "markdown",
   "id": "5f2f9689",
   "metadata": {},
   "source": [
    "Точное решение (2, 1, 3), что совпадает с полученным методом Гаусса результатом"
   ]
  },
  {
   "cell_type": "markdown",
   "id": "d193aa55",
   "metadata": {},
   "source": [
    "## 2a. Метод Якоби решения СЛАУ"
   ]
  },
  {
   "cell_type": "code",
   "execution_count": 5,
   "id": "d37378de",
   "metadata": {},
   "outputs": [],
   "source": [
    "def Jacobi(A, f, e):\n",
    "    \"\"\"Функция реализует метод Якоби решения СЛАУ.\n",
    "    Принимает матрицу А левой части и вектор f правой части, \n",
    "    необходимую точность e. Возвращает вектор решения\"\"\"\n",
    "    N = A.shape[0]\n",
    "    diagonal = A.diagonal()\n",
    "    \n",
    "    x = []\n",
    "    x.append(f)\n",
    "    x_new = f\n",
    "    error = 100    \n",
    "    \n",
    "    while error >= e:\n",
    "        a_x = A.dot(x[-1])\n",
    "        x.append(np.array([(f[i] - a_x[i] + x[-1] [i] * diagonal[i]) / diagonal[i] for i in range(N)]))\n",
    "        \n",
    "        error = np.linalg.norm(x[-2] - x[-1]) \n",
    "                 \n",
    "    return (x[-1])  "
   ]
  },
  {
   "cell_type": "code",
   "execution_count": 6,
   "id": "0eae7154",
   "metadata": {},
   "outputs": [],
   "source": [
    "# Еще одна тестовая СЛАУ A_j * x = f_j, ее точное решение (1, 1)\n",
    "A_j = np.array([[5., 2.], [1., 5.]])\n",
    "f_j = np.array([[7.], [6.]])"
   ]
  },
  {
   "cell_type": "code",
   "execution_count": 7,
   "id": "11a9f4f6",
   "metadata": {},
   "outputs": [
    {
     "data": {
      "text/plain": [
       "array([[0.99991808],\n",
       "       [0.99995085]])"
      ]
     },
     "execution_count": 7,
     "metadata": {},
     "output_type": "execute_result"
    }
   ],
   "source": [
    "Jacobi(A_j, f_j, 0.001)"
   ]
  },
  {
   "cell_type": "markdown",
   "id": "1629b9a6",
   "metadata": {},
   "source": [
    "Точное решение (1, 1), что хорошо сходится с полученным по методу Якоби."
   ]
  },
  {
   "cell_type": "markdown",
   "id": "82788941",
   "metadata": {},
   "source": [
    "## 2b. Метод Зейделя."
   ]
  },
  {
   "cell_type": "code",
   "execution_count": 8,
   "id": "87879014",
   "metadata": {},
   "outputs": [],
   "source": [
    "def Zeidel(A, f, e):\n",
    "    \"\"\"Функция реализует метод Зейделя решения СЛАУ.\n",
    "    Принимает матрицу А левой части и вектор f правой части, \n",
    "    необходимую точность e. Возвращает вектор решения\"\"\"\n",
    "    diagonal = A.diagonal()\n",
    "    \n",
    "    L = np.tril(A, k=-1)\n",
    "    U = np.triu(A, k=1)\n",
    "    D = np.diag(np.diag(A))\n",
    "    \n",
    "    L_D = L + D\n",
    "    L_D_inv = np.linalg.inv(L_D)\n",
    "    \n",
    "    x = []\n",
    "    x.append(f)\n",
    "    error = 100\n",
    "    \n",
    "    while error > e:\n",
    "#         print(x[-1])\n",
    "        x.append(L_D_inv.dot((-U.dot(x[-1]) + f)))\n",
    "     \n",
    "        error = np.linalg.norm(x[-1] - x[-2])\n",
    "    return(x[-1])\n",
    "    "
   ]
  },
  {
   "cell_type": "code",
   "execution_count": 9,
   "id": "7f5fb0e7",
   "metadata": {},
   "outputs": [
    {
     "name": "stdout",
     "output_type": "stream",
     "text": [
      "[[5. 2.]\n",
      " [1. 5.]]\n",
      "[[7.]\n",
      " [6.]]\n"
     ]
    }
   ],
   "source": [
    "print(A_j)\n",
    "print(f_j)"
   ]
  },
  {
   "cell_type": "code",
   "execution_count": 10,
   "id": "3779f7cd",
   "metadata": {},
   "outputs": [
    {
     "data": {
      "text/plain": [
       "array([[0.99991808],\n",
       "       [1.00001638]])"
      ]
     },
     "execution_count": 10,
     "metadata": {},
     "output_type": "execute_result"
    }
   ],
   "source": [
    "Zeidel(A_j, f_j, 0.001)"
   ]
  },
  {
   "cell_type": "markdown",
   "id": "5da8398e",
   "metadata": {},
   "source": [
    "Точное решение (1, 1), что хорошо сходится с полученным по методу Зейделя"
   ]
  },
  {
   "cell_type": "markdown",
   "id": "053cc649",
   "metadata": {},
   "source": [
    "## Методы наискорейшего спуска и наименьшей невязки"
   ]
  },
  {
   "cell_type": "markdown",
   "id": "e013f16d",
   "metadata": {},
   "source": [
    "Для начала, метод нискорейшего спуска"
   ]
  },
  {
   "cell_type": "code",
   "execution_count": 16,
   "id": "9374bd05",
   "metadata": {},
   "outputs": [],
   "source": [
    "def descent_method(A, f, e):\n",
    "    \"\"\"Функция реализует метод наискорейшего спуска решения СЛАУ.\n",
    "    Принимает матрицу А левой части и вектор f правой части, \n",
    "    необходимую точность e. Возвращает вектор решения\"\"\"\n",
    "    x = []\n",
    "    r = []\n",
    "    x.append(f)\n",
    "    error = 100\n",
    "    \n",
    "    while error > e:\n",
    "        r.append(A.dot(x[-1]) - f)\n",
    "        t = np.transpose(r[-1]).dot(r[-1]) / np.transpose(A.dot(r[-1])).dot(r[-1])\n",
    "        x.append(x[-1] - t * r[-1])\n",
    "        error = np.linalg.norm(r[-1])\n",
    "        \n",
    "    return x[-1]"
   ]
  },
  {
   "cell_type": "code",
   "execution_count": 17,
   "id": "e76e02b8",
   "metadata": {},
   "outputs": [
    {
     "data": {
      "text/plain": [
       "array([[0.99999934],\n",
       "       [0.99999945]])"
      ]
     },
     "execution_count": 17,
     "metadata": {},
     "output_type": "execute_result"
    }
   ],
   "source": [
    "descent_method(A_j, f_j, 0.0001)"
   ]
  },
  {
   "cell_type": "markdown",
   "id": "f5bdabb8",
   "metadata": {},
   "source": [
    "Результат хорошо сходится с точным ответом (1, 1)"
   ]
  },
  {
   "cell_type": "markdown",
   "id": "bf0563d7",
   "metadata": {},
   "source": [
    "Теперь метод наименьших невязок"
   ]
  },
  {
   "cell_type": "code",
   "execution_count": 23,
   "id": "5da45c0f",
   "metadata": {},
   "outputs": [],
   "source": [
    "def minimal_error(A, f, e):\n",
    "    \"\"\"Функция реализует метод наименьших невязок решения СЛАУ.\n",
    "    Принимает матрицу А левой части и вектор f правой части, \n",
    "    необходимую точность e. Возвращает вектор решения\"\"\"\n",
    "    x = []\n",
    "    r = []\n",
    "    x.append(f)\n",
    "    error = 100\n",
    "    \n",
    "    while error > e:\n",
    "        r.append(A.dot(x[-1]) - f)\n",
    "        A_r = A.dot(r[-1])\n",
    "        t = np.transpose(A_r).dot(r[-1]) / np.transpose(A_r).dot(A_r)\n",
    "        x.append(x[-1] - t * r[-1])\n",
    "        error = np.linalg.norm(r[-1])\n",
    "\n",
    "    return x[-1]"
   ]
  },
  {
   "cell_type": "code",
   "execution_count": 24,
   "id": "0f395416",
   "metadata": {},
   "outputs": [
    {
     "data": {
      "text/plain": [
       "array([[0.99998794],\n",
       "       [1.00002392]])"
      ]
     },
     "execution_count": 24,
     "metadata": {},
     "output_type": "execute_result"
    }
   ],
   "source": [
    "minimal_error(A_j, f_j, 0.001)"
   ]
  },
  {
   "cell_type": "markdown",
   "id": "ccd39746",
   "metadata": {},
   "source": [
    "Результат хорошо сходится с точным ответом (1, 1)"
   ]
  }
 ],
 "metadata": {
  "kernelspec": {
   "display_name": "Python 3.9.5 64-bit",
   "language": "python",
   "name": "python395jvsc74a57bd0e0c39c2aa61344fb27ff6fb4f3a259e590cdda2eaea03f0e509c852643cc86c0"
  },
  "language_info": {
   "codemirror_mode": {
    "name": "ipython",
    "version": 3
   },
   "file_extension": ".py",
   "mimetype": "text/x-python",
   "name": "python",
   "nbconvert_exporter": "python",
   "pygments_lexer": "ipython3",
   "version": "3.9.5"
  }
 },
 "nbformat": 4,
 "nbformat_minor": 5
}
