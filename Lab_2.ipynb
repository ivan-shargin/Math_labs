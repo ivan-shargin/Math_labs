{
 "cells": [
  {
   "cell_type": "markdown",
   "id": "1bcff797",
   "metadata": {},
   "source": [
    "# Лабораторная работа 2. Элементы линейной алгебры. Шаргин Иван"
   ]
  },
  {
   "cell_type": "code",
   "execution_count": 2,
   "id": "ddbe48cb",
   "metadata": {},
   "outputs": [],
   "source": [
    "import numpy as np\n",
    "import matplotlib.pyplot as plt"
   ]
  },
  {
   "cell_type": "markdown",
   "id": "364acb2e",
   "metadata": {},
   "source": [
    "Решим СЛАУ A * x = f "
   ]
  },
  {
   "cell_type": "markdown",
   "id": "503f1510",
   "metadata": {},
   "source": [
    "## 1. Метод Гаусса"
   ]
  },
  {
   "cell_type": "markdown",
   "id": "3fa6a4ad",
   "metadata": {},
   "source": [
    "Функция Gauss_solve реализует метод Гаусса, принимает на вход матрицу A, вектор правой части f, возвращает решение u"
   ]
  },
  {
   "cell_type": "code",
   "execution_count": 3,
   "id": "71ed7160",
   "metadata": {},
   "outputs": [],
   "source": [
    "def Gauss(A, f):\n",
    "    \"\"\"Функция Gauss реализует метод Гаусса, \n",
    "    принимает на вход матрицу A, вектор правой части f, \n",
    "    возвращает решение СЛАУ\"\"\"\n",
    "    leading_element_inds = np.transpose(np.nonzero(np.abs(A) == np.abs(A).max()))[0]\n",
    "    A_f = np.hstack((A, f))\n",
    "    A_f[[0, leading_element_inds[0]]] = A_f[[leading_element_inds[0], 0]]\n",
    "    A_f[:, [0, leading_element_inds[1]]] = A_f[:, [leading_element_inds[1], 0]]\n",
    "\n",
    "    for j in range(0, A_f.shape[0] - 1):\n",
    "        for i in range(j + 1, A_f.shape[0]):\n",
    "            k = A_f[i, j] / A_f[j, j]\n",
    "            A_f[i, j:] = A_f[i, j:] - A_f[j, j:] * k\n",
    "    \n",
    "            \n",
    "    for j in range(A_f.shape[0] - 1, 0, -1):\n",
    "        for i in range(j - 1, -1, -1):\n",
    "            k = A_f[i, j] / A_f[j, j]\n",
    "            A_f[i, :] = A_f[i, :] - A_f[j, :] * k\n",
    "    \n",
    "            \n",
    "    for i in range(A_f.shape[0]):\n",
    "        A_f[i, :] = A_f[i, :] / A_f[i, i]\n",
    "    \n",
    " \n",
    "    answer = A_f[:, -1]\n",
    "    answer[[0, leading_element_inds[1]]] = answer[[leading_element_inds[1], 0]]\n",
    "    \n",
    "    \n",
    "    return answer  \n"
   ]
  },
  {
   "cell_type": "code",
   "execution_count": 4,
   "id": "5651690b",
   "metadata": {},
   "outputs": [
    {
     "name": "stdout",
     "output_type": "stream",
     "text": [
      "A:\n",
      "[[ 5.  7.  6.]\n",
      " [ 4.  8.  3.]\n",
      " [-1.  6.  2.]]\n",
      "f:\n",
      "[[35.]\n",
      " [25.]\n",
      " [10.]]\n",
      "The answer:\n",
      "[2. 1. 3.]\n"
     ]
    }
   ],
   "source": [
    "A_test = np.array([[5.0, 7.0, 6.0], [4.0, 8.0, 3.0],  [-1.0, 6.0, 2.0]])\n",
    "print('A:')\n",
    "print(A_test)\n",
    "f_test = np.array([[35.0], [25.0], [10.0]])\n",
    "print('f:')\n",
    "print(f_test)\n",
    "print('The answer:')\n",
    "print(Gauss(A_test, f_test))"
   ]
  },
  {
   "cell_type": "markdown",
   "id": "5f2f9689",
   "metadata": {},
   "source": [
    "Точное решение (2, 1, 3), что совпадает с полученным методом Гаусса результатом"
   ]
  },
  {
   "cell_type": "code",
   "execution_count": 5,
   "id": "f9048514",
   "metadata": {},
   "outputs": [
    {
     "name": "stdout",
     "output_type": "stream",
     "text": [
      "[ 1.48837209 -0.02325581 -0.6744186 ]\n"
     ]
    }
   ],
   "source": [
    "A_c = np.array([[2., -1., 0], [5., 4., 2.], [0, 1., -3.]])\n",
    "f_c = np.array([[3.], [6.], [2.]])\n",
    "print(Gauss(A_c, f_c))"
   ]
  },
  {
   "cell_type": "markdown",
   "id": "1f778a3e",
   "metadata": {},
   "source": [
    "## 1.b Метод прогонки"
   ]
  },
  {
   "cell_type": "code",
   "execution_count": 6,
   "id": "13f14f95",
   "metadata": {},
   "outputs": [],
   "source": [
    "def diags_3(A, f):\n",
    "    \"\"\"Функция реализует метод прогонки СЛАУ.\n",
    "    Принимает матрицу А левой части и вектор f правой части, \n",
    "    необходимую точность. Возвращает вектор решения\"\"\"\n",
    "    N = A.shape[0]\n",
    "    d = f\n",
    "    c = np.diagonal(A, offset=1)\n",
    "    b = np.diagonal(A)\n",
    "    a = np.diagonal(A, offset=-1)\n",
    "    \n",
    "    L = np.tril(A, k=-2)\n",
    "    U = np.triu(A, k=2)\n",
    "    if np.linalg.norm(L) > 0 or np.linalg.norm(U) > 0:\n",
    "        print(\"Not 3x diagonal matrix!\")\n",
    "        return(0)\n",
    "    \n",
    "    answer = [0] * N\n",
    "    y = []\n",
    "    y.append(b[0])\n",
    "    alpha = []\n",
    "    alpha.append(-c[0] / y[0])\n",
    "    beta = []\n",
    "    beta.append(d[0]/y[0])\n",
    "    \n",
    "    for i in range(1, N-1):\n",
    "        y.append(b[i] + a[i-1] * alpha[-1])\n",
    "        alpha.append(-c[i] / y[-1])\n",
    "        beta.append((d[i] - a[i-1] * beta[-1]) / y[-1])\n",
    "    y.append(b[N-1] + a[N-2] * alpha[-1])\n",
    "    beta.append((d[N-1] - a[N-2] * beta[-1]) / y[-1])\n",
    "    \n",
    "    answer[-1] = beta[-1]\n",
    "    for i in range(N-2, -1, -1):\n",
    "        answer[i] = alpha[i] * answer[i+1] + beta[i]\n",
    "    answer = np.array(answer)\n",
    "\n",
    "    print(\"answer:\")\n",
    "    print(answer)\n",
    "    return(0)  "
   ]
  },
  {
   "cell_type": "code",
   "execution_count": 7,
   "id": "d08aa139",
   "metadata": {},
   "outputs": [
    {
     "name": "stdout",
     "output_type": "stream",
     "text": [
      "[[ 2. -1.  0.]\n",
      " [ 5.  4.  2.]\n",
      " [ 0.  1. -3.]]\n",
      "[[3.]\n",
      " [6.]\n",
      " [2.]]\n",
      "answer:\n",
      "[[ 1.48837209]\n",
      " [-0.02325581]\n",
      " [-0.6744186 ]]\n"
     ]
    },
    {
     "data": {
      "text/plain": [
       "0"
      ]
     },
     "execution_count": 7,
     "metadata": {},
     "output_type": "execute_result"
    }
   ],
   "source": [
    "print(A_c)\n",
    "print(f_c)\n",
    "diags_3(A_c, f_c)"
   ]
  },
  {
   "cell_type": "code",
   "execution_count": 8,
   "id": "f3057c90",
   "metadata": {},
   "outputs": [
    {
     "name": "stdout",
     "output_type": "stream",
     "text": [
      "[[ 1.  1.  0.]\n",
      " [ 1.  2.  1.]\n",
      " [ 0.  1. -1.]]\n",
      "[[ 3.]\n",
      " [ 8.]\n",
      " [-1.]]\n",
      "answer:\n",
      "[[1.]\n",
      " [2.]\n",
      " [3.]]\n"
     ]
    },
    {
     "data": {
      "text/plain": [
       "0"
      ]
     },
     "execution_count": 8,
     "metadata": {},
     "output_type": "execute_result"
    }
   ],
   "source": [
    "A_d = np.array([[1., 1., 0.], [1., 2., 1.], [0., 1., -1.]])\n",
    "f_d = np.array([[3.], [8.], [-1.]])\n",
    "print(A_d)\n",
    "print(f_d)\n",
    "diags_3(A_d, f_d)"
   ]
  },
  {
   "cell_type": "code",
   "execution_count": 9,
   "id": "f92b0963",
   "metadata": {},
   "outputs": [
    {
     "name": "stdout",
     "output_type": "stream",
     "text": [
      "Not 3x diagonal matrix!\n"
     ]
    },
    {
     "data": {
      "text/plain": [
       "0"
      ]
     },
     "execution_count": 9,
     "metadata": {},
     "output_type": "execute_result"
    }
   ],
   "source": [
    "diags_3(A_test, f_test)"
   ]
  },
  {
   "cell_type": "markdown",
   "id": "d193aa55",
   "metadata": {},
   "source": [
    "## 2a. Метод Якоби решения СЛАУ"
   ]
  },
  {
   "cell_type": "code",
   "execution_count": 10,
   "id": "b07b215a",
   "metadata": {},
   "outputs": [
    {
     "name": "stdout",
     "output_type": "stream",
     "text": [
      "[[1. 0. 0.]\n",
      " [0. 1. 0.]\n",
      " [0. 0. 1.]]\n"
     ]
    }
   ],
   "source": [
    "print(np.eye(3))"
   ]
  },
  {
   "cell_type": "code",
   "execution_count": 11,
   "id": "d37378de",
   "metadata": {},
   "outputs": [],
   "source": [
    "def Jacobi(A, f, e):\n",
    "    \"\"\"Функция реализует метод Якоби решения СЛАУ.\n",
    "    Принимает матрицу А левой части и вектор f правой части, \n",
    "    необходимую точность e. Возвращает вектор решения\"\"\"\n",
    "    N = A.shape[0]\n",
    "    diagonal = A.diagonal()\n",
    "    \n",
    "    L = np.tril(A, k=-1)\n",
    "    U = np.triu(A, k=1)\n",
    "    D = np.diag(np.diag(A))\n",
    "    \n",
    "    D_inv = np.linalg.inv(D)\n",
    "    B = np.eye(N) - D_inv.dot(A)\n",
    "    norm_B = np.linalg.norm(B, ord=np.inf)\n",
    "    if norm_B >= 1:\n",
    "        print(\"Can't use Jacobi for this system\")\n",
    "        return(-1)\n",
    "    \n",
    "    x = []\n",
    "    x.append(f)\n",
    "    x_new = f\n",
    "    error = 100    \n",
    "    \n",
    "    while error >= e:\n",
    "        a_x = A.dot(x[-1])\n",
    "        x.append(np.array([(f[i] - a_x[i] + x[-1] [i] * diagonal[i]) / diagonal[i] for i in range(N)]))\n",
    "        \n",
    "        error = np.linalg.norm(x[-2] - x[-1] ) \n",
    "    \n",
    "    print(\"answer:\")\n",
    "    print(x[-1])\n",
    "    return(0)  "
   ]
  },
  {
   "cell_type": "code",
   "execution_count": 12,
   "id": "0eae7154",
   "metadata": {},
   "outputs": [
    {
     "name": "stdout",
     "output_type": "stream",
     "text": [
      "A:\n",
      "[[5. 2.]\n",
      " [1. 5.]]\n",
      "f:\n",
      "[[7.]\n",
      " [6.]]\n"
     ]
    }
   ],
   "source": [
    "# Еще одна тестовая СЛАУ A_j * x = f_j, ее точное решение (1, 1)\n",
    "A_j = np.array([[5., 2.], [1., 5.]])\n",
    "f_j = np.array([[7.], [6.]])\n",
    "print('A:')\n",
    "print(A_j)\n",
    "print('f:')\n",
    "print(f_j)"
   ]
  },
  {
   "cell_type": "code",
   "execution_count": 13,
   "id": "11a9f4f6",
   "metadata": {},
   "outputs": [
    {
     "name": "stdout",
     "output_type": "stream",
     "text": [
      "answer:\n",
      "[[0.99991808]\n",
      " [0.99995085]]\n"
     ]
    },
    {
     "data": {
      "text/plain": [
       "0"
      ]
     },
     "execution_count": 13,
     "metadata": {},
     "output_type": "execute_result"
    }
   ],
   "source": [
    "Jacobi(A_j, f_j, 0.001)"
   ]
  },
  {
   "cell_type": "code",
   "execution_count": 14,
   "id": "eca8896b",
   "metadata": {},
   "outputs": [
    {
     "name": "stdout",
     "output_type": "stream",
     "text": [
      "Can't use Jacobi for this system\n"
     ]
    },
    {
     "data": {
      "text/plain": [
       "-1"
      ]
     },
     "execution_count": 14,
     "metadata": {},
     "output_type": "execute_result"
    }
   ],
   "source": [
    "Jacobi(A_test, f_test, 0.001)"
   ]
  },
  {
   "cell_type": "markdown",
   "id": "1629b9a6",
   "metadata": {},
   "source": [
    "Точное решение (1, 1), что хорошо сходится с полученным по методу Якоби."
   ]
  },
  {
   "cell_type": "markdown",
   "id": "82788941",
   "metadata": {},
   "source": [
    "## 2b. Метод Зейделя."
   ]
  },
  {
   "cell_type": "code",
   "execution_count": 15,
   "id": "87879014",
   "metadata": {},
   "outputs": [],
   "source": [
    "def Zeidel(A, f, e):\n",
    "    \"\"\"Функция реализует метод Зейделя решения СЛАУ.\n",
    "    Принимает матрицу А левой части и вектор f правой части, \n",
    "    необходимую точность e. Возвращает вектор решения\"\"\"\n",
    "    N = A.shape[0]\n",
    "    diagonal = A.diagonal()\n",
    "    \n",
    "    L = np.tril(A, k=-1)\n",
    "    U = np.triu(A, k=1)\n",
    "    D = np.diag(np.diag(A))\n",
    "    \n",
    "    D_inv = np.linalg.inv(D)\n",
    "    B = np.eye(N) - D_inv.dot(A)\n",
    "    norm_B = np.linalg.norm(B, ord=np.inf)\n",
    "    if norm_B >= 1:\n",
    "        print(\"Can't use Zeidel for this system\")\n",
    "        return(-1)\n",
    "    \n",
    "    L_D = L + D\n",
    "    L_D_inv = np.linalg.inv(L_D)\n",
    "    \n",
    "    x = []\n",
    "    x.append(f)\n",
    "    error = 100\n",
    "    \n",
    "    while error > e:\n",
    "#         print(x[-1])\n",
    "        x.append(L_D_inv.dot((-U.dot(x[-1]) + f)))\n",
    "     \n",
    "        error = np.linalg.norm(x[-1] - x[-2])\n",
    "        \n",
    "    print(\"answer:\")\n",
    "    print(x[-1])\n",
    "    return(0)\n",
    "    "
   ]
  },
  {
   "cell_type": "code",
   "execution_count": 16,
   "id": "7f5fb0e7",
   "metadata": {},
   "outputs": [
    {
     "name": "stdout",
     "output_type": "stream",
     "text": [
      "[[5. 2.]\n",
      " [1. 5.]]\n",
      "[[7.]\n",
      " [6.]]\n"
     ]
    }
   ],
   "source": [
    "print(A_j)\n",
    "print(f_j)"
   ]
  },
  {
   "cell_type": "code",
   "execution_count": 17,
   "id": "3779f7cd",
   "metadata": {},
   "outputs": [
    {
     "name": "stdout",
     "output_type": "stream",
     "text": [
      "answer:\n",
      "[[0.99991808]\n",
      " [1.00001638]]\n"
     ]
    },
    {
     "data": {
      "text/plain": [
       "0"
      ]
     },
     "execution_count": 17,
     "metadata": {},
     "output_type": "execute_result"
    }
   ],
   "source": [
    "Zeidel(A_j, f_j, 0.001)"
   ]
  },
  {
   "cell_type": "code",
   "execution_count": 18,
   "id": "891c1599",
   "metadata": {},
   "outputs": [
    {
     "name": "stdout",
     "output_type": "stream",
     "text": [
      "Can't use Zeidel for this system\n"
     ]
    },
    {
     "data": {
      "text/plain": [
       "-1"
      ]
     },
     "execution_count": 18,
     "metadata": {},
     "output_type": "execute_result"
    }
   ],
   "source": [
    "Zeidel(A_test, f_test, 0.001)"
   ]
  },
  {
   "cell_type": "markdown",
   "id": "5da8398e",
   "metadata": {},
   "source": [
    "Точное решение (1, 1), что хорошо сходится с полученным по методу Зейделя"
   ]
  },
  {
   "cell_type": "markdown",
   "id": "9b206c04",
   "metadata": {},
   "source": [
    "## Методы наискорейшего спуска и наименьшей невязки"
   ]
  },
  {
   "cell_type": "markdown",
   "id": "952fa049",
   "metadata": {},
   "source": [
    "Для начала, метод нискорейшего спуска"
   ]
  },
  {
   "cell_type": "code",
   "execution_count": 19,
   "id": "9873c520",
   "metadata": {},
   "outputs": [],
   "source": [
    "def descent_method(A, f, e):\n",
    "    \"\"\"Функция реализует метод наискорейшего спуска решения СЛАУ.\n",
    "    Принимает матрицу А левой части и вектор f правой части, \n",
    "    необходимую точность e. Возвращает вектор решения\"\"\"\n",
    "    x = []\n",
    "    r = []\n",
    "    x.append(f)\n",
    "    error = 100\n",
    "    \n",
    "    while error > e:\n",
    "        r.append(A.dot(x[-1]) - f)\n",
    "        t = np.transpose(r[-1]).dot(r[-1]) / np.transpose(A.dot(r[-1])).dot(r[-1])\n",
    "        x.append(x[-1] - t * r[-1])\n",
    "        error = np.linalg.norm(r[-1])\n",
    "        \n",
    "    return x[-1]"
   ]
  },
  {
   "cell_type": "code",
   "execution_count": 20,
   "id": "ebcdc05f",
   "metadata": {},
   "outputs": [
    {
     "name": "stdout",
     "output_type": "stream",
     "text": [
      "A:\n",
      "[[5. 2.]\n",
      " [1. 5.]]\n",
      "f:\n",
      "[[7.]\n",
      " [6.]]\n",
      "answer:\n"
     ]
    },
    {
     "data": {
      "text/plain": [
       "array([[0.99999934],\n",
       "       [0.99999945]])"
      ]
     },
     "execution_count": 20,
     "metadata": {},
     "output_type": "execute_result"
    }
   ],
   "source": [
    "print('A:')\n",
    "print(A_j)\n",
    "print('f:')\n",
    "print(f_j)\n",
    "print('answer:')\n",
    "descent_method(A_j, f_j, 0.0001)"
   ]
  },
  {
   "cell_type": "markdown",
   "id": "557ea3f8",
   "metadata": {},
   "source": [
    "Результат хорошо сходится с точным ответом (1, 1)"
   ]
  },
  {
   "cell_type": "markdown",
   "id": "c04b990e",
   "metadata": {},
   "source": [
    "Теперь метод наименьших невязок"
   ]
  },
  {
   "cell_type": "code",
   "execution_count": 21,
   "id": "61c3410a",
   "metadata": {},
   "outputs": [],
   "source": [
    "def minimal_error(A, f, e):\n",
    "    \"\"\"Функция реализует метод наименьших невязок решения СЛАУ.\n",
    "    Принимает матрицу А левой части и вектор f правой части, \n",
    "    необходимую точность e. Возвращает вектор решения\"\"\"\n",
    "    x = []\n",
    "    r = []\n",
    "    x.append(f)\n",
    "    error = 100\n",
    "    \n",
    "    while error > e:\n",
    "        r.append(A.dot(x[-1]) - f)\n",
    "        A_r = A.dot(r[-1])\n",
    "        t = np.transpose(A_r).dot(r[-1]) / np.transpose(A_r).dot(A_r)\n",
    "        x.append(x[-1] - t * r[-1])\n",
    "        error = np.linalg.norm(r[-1])\n",
    "\n",
    "    return x[-1]"
   ]
  },
  {
   "cell_type": "code",
   "execution_count": 22,
   "id": "66879bee",
   "metadata": {},
   "outputs": [
    {
     "name": "stdout",
     "output_type": "stream",
     "text": [
      "A:\n",
      "[[5. 2.]\n",
      " [1. 5.]]\n",
      "f:\n",
      "[[7.]\n",
      " [6.]]\n",
      "answer:\n"
     ]
    },
    {
     "data": {
      "text/plain": [
       "array([[0.99998794],\n",
       "       [1.00002392]])"
      ]
     },
     "execution_count": 22,
     "metadata": {},
     "output_type": "execute_result"
    }
   ],
   "source": [
    "print('A:')\n",
    "print(A_j)\n",
    "print('f:')\n",
    "print(f_j)\n",
    "print('answer:')\n",
    "minimal_error(A_j, f_j, 0.001)"
   ]
  },
  {
   "cell_type": "markdown",
   "id": "1fd18b54",
   "metadata": {},
   "source": [
    "Результат хорошо сходится с точным ответом (1, 1)"
   ]
  },
  {
   "cell_type": "code",
   "execution_count": 23,
   "id": "f58c6ff7",
   "metadata": {},
   "outputs": [
    {
     "data": {
      "text/plain": [
       "array([[1.00112157],\n",
       "       [1.99958712],\n",
       "       [2.99921614]])"
      ]
     },
     "execution_count": 23,
     "metadata": {},
     "output_type": "execute_result"
    }
   ],
   "source": [
    "minimal_error(A_d, f_d, 0.001)"
   ]
  }
 ],
 "metadata": {
  "kernelspec": {
   "display_name": "Python 3.9.5 64-bit",
   "language": "python",
   "name": "python395jvsc74a57bd0e0c39c2aa61344fb27ff6fb4f3a259e590cdda2eaea03f0e509c852643cc86c0"
  },
  "language_info": {
   "codemirror_mode": {
    "name": "ipython",
    "version": 3
   },
   "file_extension": ".py",
   "mimetype": "text/x-python",
   "name": "python",
   "nbconvert_exporter": "python",
   "pygments_lexer": "ipython3",
   "version": "3.9.5"
  }
 },
 "nbformat": 4,
 "nbformat_minor": 5
}
