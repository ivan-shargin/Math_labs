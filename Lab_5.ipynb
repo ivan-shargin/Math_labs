{
 "cells": [
  {
   "cell_type": "markdown",
   "id": "a99f951a",
   "metadata": {},
   "source": [
    "# Лабораторная работа 5. Шаргин Иван. "
   ]
  },
  {
   "cell_type": "code",
   "execution_count": 1,
   "id": "0ea27e7f",
   "metadata": {},
   "outputs": [],
   "source": [
    "import numpy as np\n",
    "import matplotlib.pyplot as plt\n",
    "import math\n",
    "from functools import reduce\n",
    "from sklearn import linear_model"
   ]
  },
  {
   "cell_type": "code",
   "execution_count": 2,
   "id": "94a7e1b1",
   "metadata": {},
   "outputs": [],
   "source": [
    "def f_test(x):\n",
    "    return np.sin(x) / x"
   ]
  },
  {
   "cell_type": "code",
   "execution_count": 3,
   "id": "293ae2f8",
   "metadata": {},
   "outputs": [],
   "source": [
    "def f_easy_test(x):\n",
    "    return np.sin(x)"
   ]
  },
  {
   "cell_type": "code",
   "execution_count": 67,
   "id": "58a4536a",
   "metadata": {},
   "outputs": [],
   "source": [
    "def test(x):\n",
    "    return np.power(x, 5)"
   ]
  },
  {
   "cell_type": "code",
   "execution_count": 56,
   "id": "a7a62265",
   "metadata": {},
   "outputs": [],
   "source": [
    "def left_rect(f, section, N):\n",
    "    x_grid = np.linspace(section[0], section[1], N+1)\n",
    "    S = 0\n",
    "    for i in range(N):\n",
    "        S += f(x_grid[i]) * (x_grid[i+1] - x_grid[i])\n",
    "    \n",
    "    return(S)"
   ]
  },
  {
   "cell_type": "code",
   "execution_count": 5,
   "id": "59dc05ff",
   "metadata": {},
   "outputs": [],
   "source": [
    "def grid_left_rect(f_grid, x_grid):\n",
    "    S = 0\n",
    "    for x in x_grid:\n",
    "        if x != x_grid[-1]:\n",
    "            S += f(x) * h \n",
    "    \n",
    "    return(S)"
   ]
  },
  {
   "cell_type": "code",
   "execution_count": 58,
   "id": "1dac0774",
   "metadata": {},
   "outputs": [
    {
     "name": "stdout",
     "output_type": "stream",
     "text": [
      "[2.00000412]\n"
     ]
    },
    {
     "data": {
      "image/png": "[encoded data removed]",
      "text/plain": [
       "<Figure size 432x288 with 1 Axes>"
      ]
     },
     "metadata": {
      "needs_background": "light"
     },
     "output_type": "display_data"
    }
   ],
   "source": [
    "N_arr = np.array(range(100, 1000, 10))\n",
    "h_arr = math.pi / N_arr\n",
    "error = []\n",
    "for N in N_arr:\n",
    "    I = left_rect(f_easy_test, np.array([0, math.pi]), N)\n",
    "    I_precise = 2\n",
    "    error.append(np.linalg.norm(I - I_precise))\n",
    "\n",
    "error = np.array(error)\n",
    "ln_error = np.log(error)\n",
    "ln_h = np.log(h_arr)\n",
    "\n",
    "fig, ax = plt.subplots() \n",
    "ax.grid()\n",
    "ax.scatter(ln_h, ln_error, s=15)\n",
    "plt.xlabel(\"ln_h\")\n",
    "plt.ylabel(\"ln_error\")\n",
    "plt.title(\"Left rectangles, error\")\n",
    "\n",
    "linear_regressor = linear_model.LinearRegression()\n",
    "linear_regressor.fit(ln_h.reshape((ln_h.size, 1)), ln_error)\n",
    "x0 = np.linspace(-6, -2, 100).reshape((100, 1))\n",
    "y0 = linear_regressor.predict(x0)\n",
    "ax.plot(x0, y0)\n",
    "print(linear_regressor.coef_)"
   ]
  },
  {
   "cell_type": "code",
   "execution_count": null,
   "id": "c8f09999",
   "metadata": {},
   "outputs": [],
   "source": [
    "N_arr = np.array(range(100, 1000, 10))\n",
    "h_arr = math.pi / N_arr\n",
    "error = []\n",
    "for N in N_arr:\n",
    "    I = left_rect(f_easy_test, np.array([0, math.pi]), N)\n",
    "    I_precise = 2\n",
    "    error.append(np.linalg.norm(I - I_precise))\n",
    "\n",
    "error = np.array(error)\n",
    "ln_error = np.log(error)\n",
    "ln_h = np.log(h_arr)\n",
    "\n",
    "fig, ax = plt.subplots() \n",
    "ax.grid()\n",
    "ax.scatter(ln_h, ln_error, s=15)\n",
    "plt.xlabel(\"ln_h\")\n",
    "plt.ylabel(\"ln_error\")\n",
    "plt.title(\"Left rectangles, error\")\n",
    "\n",
    "linear_regressor = linear_model.LinearRegression()\n",
    "linear_regressor.fit(ln_h.reshape((ln_h.size, 1)), ln_error)\n",
    "x0 = np.linspace(-6, -2, 100).reshape((100, 1))\n",
    "y0 = linear_regressor.predict(x0)\n",
    "ax.plot(x0, y0)\n",
    "print(linear_regressor.coef_)"
   ]
  },
  {
   "cell_type": "code",
   "execution_count": 7,
   "id": "3240cf48",
   "metadata": {},
   "outputs": [
    {
     "data": {
      "text/plain": [
       "1.8459976326302725"
      ]
     },
     "execution_count": 7,
     "metadata": {},
     "output_type": "execute_result"
    }
   ],
   "source": [
    "left_rect(f_test, np.array([0.01, math.pi]), h=0.01)"
   ]
  },
  {
   "cell_type": "code",
   "execution_count": 51,
   "id": "9e903476",
   "metadata": {},
   "outputs": [],
   "source": [
    "def right_rect(f, section, N):\n",
    "    x_grid = np.linspace(section[0], section[1], N+1)\n",
    "    S = 0\n",
    "    for i in range(N):\n",
    "        S += f(x_grid[i+1]) * (x_grid[i+1] - x_grid[i])\n",
    "    \n",
    "    return(S)"
   ]
  },
  {
   "cell_type": "code",
   "execution_count": 9,
   "id": "cf5a68ca",
   "metadata": {},
   "outputs": [],
   "source": [
    "def grid_right_rect(f_grid, x_grid):\n",
    "    S = 0\n",
    "    for x in x_grid:\n",
    "        if x != x_grid[0]:\n",
    "            S += f(x) * h \n",
    "    \n",
    "    return(S)"
   ]
  },
  {
   "cell_type": "code",
   "execution_count": 55,
   "id": "9818470f",
   "metadata": {},
   "outputs": [
    {
     "name": "stdout",
     "output_type": "stream",
     "text": [
      "[2.00000412]\n"
     ]
    },
    {
     "data": {
      "image/png": "[encoded data removed]",
      "text/plain": [
       "<Figure size 432x288 with 1 Axes>"
      ]
     },
     "metadata": {
      "needs_background": "light"
     },
     "output_type": "display_data"
    }
   ],
   "source": [
    "N_arr = np.array(range(100, 1000, 10))\n",
    "h_arr = math.pi / N_arr\n",
    "error = []\n",
    "for N in N_arr:\n",
    "    I = right_rect(f_easy_test, np.array([0, math.pi]), N)\n",
    "    I_precise = 2\n",
    "    error.append(np.linalg.norm(I - I_precise))\n",
    "\n",
    "error = np.array(error)\n",
    "ln_error = np.log(error)\n",
    "ln_h = np.log(h_arr)\n",
    "\n",
    "fig, ax = plt.subplots() \n",
    "ax.grid()\n",
    "ax.scatter(ln_h, ln_error, s=15)\n",
    "plt.xlabel(\"ln_h\")\n",
    "plt.ylabel(\"ln_error\")\n",
    "plt.title(\"Right rectangles, error\")\n",
    "\n",
    "linear_regressor = linear_model.LinearRegression()\n",
    "linear_regressor.fit(ln_h.reshape((ln_h.size, 1)), ln_error)\n",
    "x0 = np.linspace(-6, -2, 100).reshape((100, 1))\n",
    "y0 = linear_regressor.predict(x0)\n",
    "ax.plot(x0, y0)\n",
    "print(linear_regressor.coef_)"
   ]
  },
  {
   "cell_type": "code",
   "execution_count": 29,
   "id": "a25903ba",
   "metadata": {},
   "outputs": [],
   "source": [
    "def trapeze(f, section, N): \n",
    "    x_grid = np.linspace(section[0], section[1], N+1)\n",
    "    S = 0\n",
    "    for i in range(N):\n",
    "        S += 0.5 * (f(x_grid[i]) + f(x_grid[i+1])) * (x_grid[i+1] - x_grid[i])\n",
    "    \n",
    "    return(S)"
   ]
  },
  {
   "cell_type": "code",
   "execution_count": 15,
   "id": "bc2ab7e7",
   "metadata": {},
   "outputs": [],
   "source": [
    "def trapeze_grid(x_grid, f_grid):\n",
    "    N = x_grid.size - 1\n",
    "    S = 0\n",
    "    for i in range(N):\n",
    "        S += 0.5 * (f_grid[i] + f_grid[i+1]) * (x_grid[i+1] - x_grid[i])\n",
    "    \n",
    "    return(S)"
   ]
  },
  {
   "cell_type": "code",
   "execution_count": 30,
   "id": "08f4dc47",
   "metadata": {},
   "outputs": [
    {
     "name": "stdout",
     "output_type": "stream",
     "text": [
      "[2.00000966]\n"
     ]
    },
    {
     "data": {
      "image/png": "[encoded data removed]",
      "text/plain": [
       "<Figure size 432x288 with 1 Axes>"
      ]
     },
     "metadata": {
      "needs_background": "light"
     },
     "output_type": "display_data"
    }
   ],
   "source": [
    "N_arr = np.array(range(50, 1000, 10))\n",
    "h_arr = math.pi / N_arr\n",
    "error = []\n",
    "for N in N_arr:\n",
    "    I = trapeze(f_easy_test, np.array([0, math.pi]), N)\n",
    "    I_precise = 2\n",
    "    error.append(np.linalg.norm(I - I_precise))\n",
    "\n",
    "error = np.array(error)\n",
    "ln_error = np.log(error)\n",
    "ln_h = np.log(h_arr)\n",
    "\n",
    "fig, ax = plt.subplots() \n",
    "ax.grid()\n",
    "ax.scatter(ln_h, ln_error, s=15)\n",
    "plt.xlabel(\"ln_h\")\n",
    "plt.ylabel(\"ln_error\")\n",
    "plt.title(\"Trapeze, error\")\n",
    "\n",
    "linear_regressor = linear_model.LinearRegression()\n",
    "linear_regressor.fit(ln_h.reshape((ln_h.size, 1)), ln_error)\n",
    "x0 = np.linspace(-6, -2, 100).reshape((100, 1))\n",
    "y0 = linear_regressor.predict(x0)\n",
    "ax.plot(x0, y0)\n",
    "print(linear_regressor.coef_)"
   ]
  },
  {
   "cell_type": "markdown",
   "id": "bf5763a4",
   "metadata": {},
   "source": [
    "## 2. Simpson's method"
   ]
  },
  {
   "cell_type": "code",
   "execution_count": 26,
   "id": "b9e2b629",
   "metadata": {},
   "outputs": [],
   "source": [
    "def Simpson(f, section, N):  \n",
    "    x_grid = np.linspace(section[0], section[1], N+1)\n",
    "    S = 0\n",
    "    for i in range(N):\n",
    "        x_c = (x_grid[i+1] + x_grid[i]) / 2\n",
    "        S += 1 / 6 * (f(x_grid[i]) + 4 * f(x_c) + f(x_grid[i+1])) * (x_grid[i+1] - x_grid[i]) \n",
    "    \n",
    "    return(S)"
   ]
  },
  {
   "cell_type": "code",
   "execution_count": 31,
   "id": "4bf9b097",
   "metadata": {},
   "outputs": [
    {
     "name": "stdout",
     "output_type": "stream",
     "text": [
      "[4.00075551]\n"
     ]
    },
    {
     "data": {
      "image/png": "[encoded data removed]",
      "text/plain": [
       "<Figure size 432x288 with 1 Axes>"
      ]
     },
     "metadata": {
      "needs_background": "light"
     },
     "output_type": "display_data"
    }
   ],
   "source": [
    "N_arr = np.array(range(50, 1000, 10))\n",
    "h_arr = math.pi / N_arr\n",
    "error = []\n",
    "for N in N_arr:\n",
    "    I = Simpson(f_easy_test, np.array([0, math.pi]), N)\n",
    "    I_precise = 2\n",
    "    error.append(np.linalg.norm(I - I_precise))\n",
    "\n",
    "error = np.array(error)\n",
    "ln_error = np.log(error)\n",
    "ln_h = np.log(h_arr)\n",
    "\n",
    "fig, ax = plt.subplots() \n",
    "ax.grid()\n",
    "ax.scatter(ln_h, ln_error, s=15)\n",
    "plt.xlabel(\"ln_h\")\n",
    "plt.ylabel(\"ln_error\")\n",
    "plt.title(\"Trapeze, error\")\n",
    "\n",
    "linear_regressor = linear_model.LinearRegression()\n",
    "linear_regressor.fit(ln_h.reshape((ln_h.size, 1)), ln_error)\n",
    "x0 = np.linspace(-6, -2, 100).reshape((100, 1))\n",
    "y0 = linear_regressor.predict(x0)\n",
    "ax.plot(x0, y0)\n",
    "print(linear_regressor.coef_)"
   ]
  },
  {
   "cell_type": "code",
   "execution_count": null,
   "id": "6ab89ff0",
   "metadata": {},
   "outputs": [],
   "source": []
  },
  {
   "cell_type": "code",
   "execution_count": 47,
   "id": "6efaa39c",
   "metadata": {},
   "outputs": [],
   "source": [
    "def Runge_trapeze(f, section, N):\n",
    "    I1 = trapeze(f, section, N)\n",
    "    h1 = (section[1] - section[0]) / N\n",
    "    I2 = trapeze(f, section, int(N / 2))\n",
    "    h2 = (section[1] - section[0]) / int(N / 2)\n",
    "    c = (I1 - I2) / (np.power(h2, 2) - np.power(h1, 2))\n",
    "    I_r = I1 + c * np.power(h1, 2)\n",
    "    \n",
    "    return I_r "
   ]
  },
  {
   "cell_type": "code",
   "execution_count": 48,
   "id": "53e76c1b",
   "metadata": {},
   "outputs": [
    {
     "name": "stdout",
     "output_type": "stream",
     "text": [
      "[3.99987901]\n"
     ]
    },
    {
     "data": {
      "image/png": "[encoded data removed]",
      "text/plain": [
       "<Figure size 432x288 with 1 Axes>"
      ]
     },
     "metadata": {
      "needs_background": "light"
     },
     "output_type": "display_data"
    }
   ],
   "source": [
    "N_arr = np.array(range(50, 1000, 10))\n",
    "h_arr = math.pi / N_arr\n",
    "error = []\n",
    "for N in N_arr:\n",
    "    I = Runge_trapeze(f_easy_test, np.array([0, math.pi]), N)\n",
    "    I_precise = 2\n",
    "    error.append(np.linalg.norm(I - I_precise))\n",
    "\n",
    "error = np.array(error)\n",
    "ln_error = np.log(error)\n",
    "ln_h = np.log(h_arr)\n",
    "\n",
    "fig, ax = plt.subplots() \n",
    "ax.grid()\n",
    "ax.scatter(ln_h, ln_error, s=15)\n",
    "plt.xlabel(\"ln_h\")\n",
    "plt.ylabel(\"ln_error\")\n",
    "plt.title(\"Trapeze with Runge, error\")\n",
    "\n",
    "linear_regressor = linear_model.LinearRegression()\n",
    "linear_regressor.fit(ln_h.reshape((ln_h.size, 1)), ln_error)\n",
    "x0 = np.linspace(-6, -2, 100).reshape((100, 1))\n",
    "y0 = linear_regressor.predict(x0)\n",
    "ax.plot(x0, y0)\n",
    "print(linear_regressor.coef_)"
   ]
  },
  {
   "cell_type": "code",
   "execution_count": 64,
   "id": "838128b7",
   "metadata": {},
   "outputs": [],
   "source": [
    "def Runge_right_rect(f, section, N):\n",
    "    p = 2\n",
    "    I1 = right_rect(f, section, N)\n",
    "    h1 = (section[1] - section[0]) / N\n",
    "    I2 = right_rect(f, section, int(N / 2))\n",
    "    h2 = (section[1] - section[0]) / int(N / 2)\n",
    "    c = (I1 - I2) / (np.power(h2, p) - np.power(h1, p))\n",
    "    I_r = I1 + c * np.power(h1, p)\n",
    "    \n",
    "    return I_r "
   ]
  },
  {
   "cell_type": "code",
   "execution_count": 66,
   "id": "f2d8180d",
   "metadata": {},
   "outputs": [
    {
     "name": "stdout",
     "output_type": "stream",
     "text": [
      "[4.00011389]\n"
     ]
    },
    {
     "data": {
      "image/png": "[encoded data removed]",
      "text/plain": [
       "<Figure size 432x288 with 1 Axes>"
      ]
     },
     "metadata": {
      "needs_background": "light"
     },
     "output_type": "display_data"
    }
   ],
   "source": [
    "N_arr = np.array(range(50, 1000, 10))\n",
    "h_arr = math.pi / N_arr\n",
    "error = []\n",
    "for N in N_arr:\n",
    "    I = Runge_right_rect(f_easy_test, np.array([0, math.pi]), N)\n",
    "    I_precise = 2\n",
    "    error.append(np.linalg.norm(I - I_precise))\n",
    "\n",
    "error = np.array(error)\n",
    "ln_error = np.log(error)\n",
    "ln_h = np.log(h_arr)\n",
    "\n",
    "fig, ax = plt.subplots() \n",
    "ax.grid()\n",
    "ax.scatter(ln_h, ln_error, s=15)\n",
    "plt.xlabel(\"ln_h\")\n",
    "plt.ylabel(\"ln_error\")\n",
    "plt.title(\"Right rectangles with Runge, error\")\n",
    "\n",
    "linear_regressor = linear_model.LinearRegression()\n",
    "linear_regressor.fit(ln_h.reshape((ln_h.size, 1)), ln_error)\n",
    "x0 = np.linspace(-6, -2, 100).reshape((100, 1))\n",
    "y0 = linear_regressor.predict(x0)\n",
    "ax.plot(x0, y0)\n",
    "print(linear_regressor.coef_)"
   ]
  },
  {
   "cell_type": "code",
   "execution_count": null,
   "id": "9747a093",
   "metadata": {},
   "outputs": [],
   "source": []
  },
  {
   "cell_type": "code",
   "execution_count": null,
   "id": "e575a9da",
   "metadata": {},
   "outputs": [],
   "source": []
  }
 ],
 "metadata": {
  "kernelspec": {
   "display_name": "Python 3.9.5 64-bit",
   "language": "python",
   "name": "python395jvsc74a57bd0e0c39c2aa61344fb27ff6fb4f3a259e590cdda2eaea03f0e509c852643cc86c0"
  },
  "language_info": {
   "codemirror_mode": {
    "name": "ipython",
    "version": 3
   },
   "file_extension": ".py",
   "mimetype": "text/x-python",
   "name": "python",
   "nbconvert_exporter": "python",
   "pygments_lexer": "ipython3",
   "version": "3.9.5"
  }
 },
 "nbformat": 4,
 "nbformat_minor": 5
}
