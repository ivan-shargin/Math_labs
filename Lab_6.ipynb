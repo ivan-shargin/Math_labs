{
 "cells": [
  {
   "cell_type": "markdown",
   "id": "7bed25c1",
   "metadata": {},
   "source": [
    "1. Явный метод Эйлера\n",
    "2. Неявный метод Эйлера\n",
    "3. Неявный метод Эйлера с пересчетом\n",
    "4. Метод Ранге Кута 4го порядка"
   ]
  },
  {
   "cell_type": "code",
   "execution_count": null,
   "id": "9a61e45c",
   "metadata": {},
   "outputs": [],
   "source": []
  },
  {
   "cell_type": "code",
   "execution_count": null,
   "id": "e8191626",
   "metadata": {},
   "outputs": [],
   "source": []
  }
 ],
 "metadata": {
  "kernelspec": {
   "display_name": "Python 3.9.5 64-bit",
   "language": "python",
   "name": "python395jvsc74a57bd0e0c39c2aa61344fb27ff6fb4f3a259e590cdda2eaea03f0e509c852643cc86c0"
  },
  "language_info": {
   "codemirror_mode": {
    "name": "ipython",
    "version": 3
   },
   "file_extension": ".py",
   "mimetype": "text/x-python",
   "name": "python",
   "nbconvert_exporter": "python",
   "pygments_lexer": "ipython3",
   "version": "3.9.5"
  }
 },
 "nbformat": 4,
 "nbformat_minor": 5
}
