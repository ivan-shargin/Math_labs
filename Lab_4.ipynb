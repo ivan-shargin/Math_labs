{
 "cells": [
  {
   "cell_type": "markdown",
   "id": "0a99e80f",
   "metadata": {},
   "source": [
    "1. Интерполяция в форме Лагранжа. \n",
    "2. Интерполяция в форме Ньютона.\n",
    "3. Кубические слайсы."
   ]
  },
  {
   "cell_type": "markdown",
   "id": "83cd993c",
   "metadata": {},
   "source": [
    "## Лабораторная работа 4 \"Интерполяция\". Шаргин Иван"
   ]
  },
  {
   "cell_type": "code",
   "execution_count": 4,
   "id": "84ba426a",
   "metadata": {},
   "outputs": [],
   "source": [
    "import numpy as np\n",
    "import matplotlib.pyplot as plt\n",
    "import math\n",
    "from functools import reduce"
   ]
  },
  {
   "cell_type": "markdown",
   "id": "967ddb78",
   "metadata": {},
   "source": [
    "## 1. Интерполяция в форме Лагранжа"
   ]
  },
  {
   "cell_type": "code",
   "execution_count": 16,
   "id": "69e27004",
   "metadata": {},
   "outputs": [],
   "source": [
    "def Lagrange(x_arr, f_arr, area):\n",
    "    '''возвращает N значений интерполяционного многочлена на точках area'''\n",
    "    Polynom_on_area = []\n",
    "    for x in area:\n",
    "        P = 0 \n",
    "        for i in range(f_arr.size):\n",
    "            multipliers = [(x-x_arr[j]) / (x_arr[i] - x_arr[j]) for j in range(x_arr.size) if i != j]\n",
    "            l_i = reduce(lambda x, y: x * y, multipliers)\n",
    "            P += f_arr[i] * l_i\n",
    "        Polynom_on_area.append(P)\n",
    "    \n",
    "    return(np.array(Polynom_on_area))"
   ]
  },
  {
   "cell_type": "code",
   "execution_count": 7,
   "id": "ee2c7a61",
   "metadata": {},
   "outputs": [],
   "source": [
    "def f_test(x):\n",
    "    return np.sin(x) / x"
   ]
  },
  {
   "cell_type": "code",
   "execution_count": 41,
   "id": "cc7b39b8",
   "metadata": {},
   "outputs": [
    {
     "data": {
      "text/plain": [
       "[<matplotlib.lines.Line2D at 0x296482447f0>]"
      ]
     },
     "execution_count": 41,
     "metadata": {},
     "output_type": "execute_result"
    },
    {
     "data": {
      "image/png": "[encoded data removed]",
      "text/plain": [
       "<Figure size 432x288 with 1 Axes>"
      ]
     },
     "metadata": {
      "needs_background": "light"
     },
     "output_type": "display_data"
    }
   ],
   "source": [
    "x = np.linspace(0.01, 25, 200)\n",
    "y = f_test(x)\n",
    "plt.plot(x, y)\n",
    "plt.xlabel('x')\n",
    "plt.ylabel('y')\n",
    "\n",
    "x_arr = np.linspace(0.1, 24.5, 11)\n",
    "f_arr = f_test(x_arr)\n",
    "area = x\n",
    "interpolation = Lagrange(x_arr, f_arr, area)\n",
    "plt.plot(area, interpolation)"
   ]
  },
  {
   "cell_type": "code",
   "execution_count": null,
   "id": "9ecd12c4",
   "metadata": {},
   "outputs": [],
   "source": []
  },
  {
   "cell_type": "code",
   "execution_count": null,
   "id": "aa13d7d1",
   "metadata": {},
   "outputs": [],
   "source": []
  }
 ],
 "metadata": {
  "kernelspec": {
   "display_name": "Python 3.9.5 64-bit",
   "language": "python",
   "name": "python395jvsc74a57bd0e0c39c2aa61344fb27ff6fb4f3a259e590cdda2eaea03f0e509c852643cc86c0"
  },
  "language_info": {
   "codemirror_mode": {
    "name": "ipython",
    "version": 3
   },
   "file_extension": ".py",
   "mimetype": "text/x-python",
   "name": "python",
   "nbconvert_exporter": "python",
   "pygments_lexer": "ipython3",
   "version": "3.9.5"
  }
 },
 "nbformat": 4,
 "nbformat_minor": 5
}
