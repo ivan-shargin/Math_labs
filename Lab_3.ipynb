{
 "cells": [
  {
   "cell_type": "markdown",
   "id": "7d97a243",
   "metadata": {},
   "source": [
    "# Лабораторная работа 3"
   ]
  },
  {
   "cell_type": "code",
   "execution_count": 3,
   "id": "2b64e94b",
   "metadata": {},
   "outputs": [],
   "source": [
    "import numpy as np\n",
    "import matplotlib.pyplot as plt\n",
    "import math"
   ]
  },
  {
   "cell_type": "markdown",
   "id": "47626b9f",
   "metadata": {},
   "source": [
    "Решим уравнение f(x) = 0. f(x) - сеточная функция."
   ]
  },
  {
   "cell_type": "markdown",
   "id": "cb163945",
   "metadata": {},
   "source": [
    "## 1. Метод бисекции"
   ]
  },
  {
   "cell_type": "code",
   "execution_count": 14,
   "id": "242c8fde",
   "metadata": {},
   "outputs": [],
   "source": [
    "def sign(a):\n",
    "    if a > 0:\n",
    "        return 1\n",
    "    elif a < 0:\n",
    "        return -1\n",
    "    else:\n",
    "        return 0"
   ]
  },
  {
   "cell_type": "code",
   "execution_count": 15,
   "id": "9b28d3ba",
   "metadata": {},
   "outputs": [],
   "source": [
    "def f(x):\n",
    "    return np.sin(x)"
   ]
  },
  {
   "cell_type": "code",
   "execution_count": 20,
   "id": "561ae361",
   "metadata": {},
   "outputs": [],
   "source": [
    "def bisection(f, search_area, e_x):\n",
    "#     N = F_arr.shape[0]\n",
    "#     roots = []\n",
    "#     i0 = 0\n",
    "#     j0 = -1\n",
    "#     while sign(F_arr[i0]) == sign(F_arr[j0]) and i0 <= N-1:\n",
    "#         i0 += 1\n",
    "#     if i0 == N-1:\n",
    "#         print('Cant find roots')\n",
    "#     error_x = \n",
    "    start = search_area[0]\n",
    "    finish = search_area[1]\n",
    "    error_x = finish - start\n",
    "    while error_x >= e_x:        \n",
    "        med = (start + finish) / 2\n",
    "        if f(med) == 0:\n",
    "            return(med)\n",
    "        elif sign(f(start)) != sign(f(med)):\n",
    "            finish = med\n",
    "        else:\n",
    "            start = med\n",
    "        error_x = finish - start\n",
    "        \n",
    "    return (start + finish) / 2\n",
    "            \n",
    "            \n",
    "        "
   ]
  },
  {
   "cell_type": "code",
   "execution_count": 25,
   "id": "ee5d4ece",
   "metadata": {},
   "outputs": [
    {
     "data": {
      "text/plain": [
       "3.14111328125"
      ]
     },
     "execution_count": 25,
     "metadata": {},
     "output_type": "execute_result"
    }
   ],
   "source": [
    "search_area = np.array([3, 3.5])\n",
    "bisection(f, search_area, 0.001)"
   ]
  },
  {
   "cell_type": "code",
   "execution_count": null,
   "id": "abcc575a",
   "metadata": {},
   "outputs": [],
   "source": []
  },
  {
   "cell_type": "code",
   "execution_count": null,
   "id": "031eba72",
   "metadata": {},
   "outputs": [],
   "source": []
  },
  {
   "cell_type": "code",
   "execution_count": null,
   "id": "721c6fb6",
   "metadata": {},
   "outputs": [],
   "source": []
  },
  {
   "cell_type": "code",
   "execution_count": null,
   "id": "517f52ce",
   "metadata": {},
   "outputs": [],
   "source": []
  },
  {
   "cell_type": "code",
   "execution_count": null,
   "id": "ce39d447",
   "metadata": {},
   "outputs": [],
   "source": []
  }
 ],
 "metadata": {
  "kernelspec": {
   "display_name": "Python 3.9.5 64-bit",
   "language": "python",
   "name": "python395jvsc74a57bd0e0c39c2aa61344fb27ff6fb4f3a259e590cdda2eaea03f0e509c852643cc86c0"
  },
  "language_info": {
   "codemirror_mode": {
    "name": "ipython",
    "version": 3
   },
   "file_extension": ".py",
   "mimetype": "text/x-python",
   "name": "python",
   "nbconvert_exporter": "python",
   "pygments_lexer": "ipython3",
   "version": "3.9.5"
  }
 },
 "nbformat": 4,
 "nbformat_minor": 5
}
