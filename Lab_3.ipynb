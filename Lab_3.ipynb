{
 "cells": [
  {
   "cell_type": "markdown",
   "id": "9d9aa1a4",
   "metadata": {},
   "source": [
    "# Лабораторная работа 3"
   ]
  },
  {
   "cell_type": "code",
   "execution_count": 3,
   "id": "7dd5cb1e",
   "metadata": {},
   "outputs": [],
   "source": [
    "import numpy as np\n",
    "import matplotlib.pyplot as plt\n",
    "import math"
   ]
  },
  {
   "cell_type": "markdown",
   "id": "2db4c80f",
   "metadata": {},
   "source": [
    "Решим уравнение f(x) = 0. f(x) - сеточная функция."
   ]
  },
  {
   "cell_type": "markdown",
   "id": "256c2160",
   "metadata": {},
   "source": [
    "## 1. Метод бисекции"
   ]
  },
  {
   "cell_type": "code",
   "execution_count": 14,
   "id": "4d5a80cf",
   "metadata": {},
   "outputs": [],
   "source": [
    "def sign(a):\n",
    "    if a > 0:\n",
    "        return 1\n",
    "    elif a < 0:\n",
    "        return -1\n",
    "    else:\n",
    "        return 0"
   ]
  },
  {
   "cell_type": "code",
   "execution_count": 55,
   "id": "ab3a4bb2",
   "metadata": {},
   "outputs": [],
   "source": [
    "def f(x):\n",
    "    return (x-1) * (x-1)"
   ]
  },
  {
   "cell_type": "code",
   "execution_count": 20,
   "id": "a49a0fd2",
   "metadata": {},
   "outputs": [],
   "source": [
    "def bisection(f, search_area, e_x):\n",
    "#     N = F_arr.shape[0]\n",
    "#     roots = []\n",
    "#     i0 = 0\n",
    "#     j0 = -1\n",
    "#     while sign(F_arr[i0]) == sign(F_arr[j0]) and i0 <= N-1:\n",
    "#         i0 += 1\n",
    "#     if i0 == N-1:\n",
    "#         print('Cant find roots')\n",
    "#     error_x = \n",
    "    start = search_area[0]\n",
    "    finish = search_area[1]\n",
    "    error_x = finish - start\n",
    "    while error_x >= e_x:        \n",
    "        med = (start + finish) / 2\n",
    "        if f(med) == 0:\n",
    "            return(med)\n",
    "        elif sign(f(start)) != sign(f(med)):\n",
    "            finish = med\n",
    "        else:\n",
    "            start = med\n",
    "        error_x = finish - start\n",
    "        \n",
    "    return (start + finish) / 2\n",
    "            \n",
    "            \n",
    "        "
   ]
  },
  {
   "cell_type": "code",
   "execution_count": 56,
   "id": "847eaf71",
   "metadata": {},
   "outputs": [
    {
     "data": {
      "text/plain": [
       "4.399676513671875"
      ]
     },
     "execution_count": 56,
     "metadata": {},
     "output_type": "execute_result"
    }
   ],
   "source": [
    "search_area = np.array([-0.9, 4.4])\n",
    "bisection(f, search_area, 0.001)"
   ]
  },
  {
   "cell_type": "markdown",
   "id": "8a13ceb3",
   "metadata": {},
   "source": [
    "## 2а Метод Хорд."
   ]
  },
  {
   "cell_type": "code",
   "execution_count": 39,
   "id": "939d949d",
   "metadata": {},
   "outputs": [],
   "source": [
    "def chord_method(f, search_area, e_x, x0, x1):\n",
    "    x = []\n",
    "    x.append(x0)\n",
    "    x.append(x1)\n",
    "    while np.abs(x[-1] - x[-2]) >= e_x:\n",
    "        x.append(x[-1] - f(x[-1]) * (x[-1] - x[-2]) / (f(x[-1]) - f(x[-2])))\n",
    "    print('root:')\n",
    "    print(x[-1])\n",
    "    print('multiplicity:')\n",
    "    q = (x[-1] - x[-2]) / (x[-2] - x[-3])\n",
    "    multiplicity = 1 / (1 - q)\n",
    "    print(multiplicity)"
   ]
  },
  {
   "cell_type": "code",
   "execution_count": 62,
   "id": "d809a16d",
   "metadata": {},
   "outputs": [
    {
     "name": "stdout",
     "output_type": "stream",
     "text": [
      "root:\n",
      "1.0011846077419848\n",
      "multiplicity:\n",
      "2.6180298131926936\n"
     ]
    }
   ],
   "source": [
    "chord_method(f, search_area, 0.001, 4 , 4.1)"
   ]
  },
  {
   "cell_type": "markdown",
   "id": "55c5f919",
   "metadata": {},
   "source": [
    "## 2b Метод Ньютона"
   ]
  },
  {
   "cell_type": "code",
   "execution_count": 74,
   "id": "be33b4cb",
   "metadata": {},
   "outputs": [],
   "source": [
    "def Newton(f, search_area, e_x, x0):\n",
    "    x = []\n",
    "    x.append(x0)\n",
    "    h = e_x\n",
    "    dif = (f(x[-1] + h) - f(x[-1] - h)) / (2 * h)\n",
    "    x.append((x[-1] - f(x[-1])) / dif)\n",
    "    while np.abs(x[-1] - x[-2]) >= e_x:\n",
    "        dif = (f(x[-1] + h) - f(x[-1] - h)) / (2 * h)\n",
    "        if dif == 0:\n",
    "            dif += e_x\n",
    "        x.append((x[-1] - f(x[-1])) / dif)\n",
    "    print('root:')\n",
    "    print(x[-1])\n",
    "    print('multiplicity:')\n",
    "    q = (x[-1] - x[-2]) / (x[-2] - x[-3])\n",
    "    multiplicity = 1 / (1 - q)\n",
    "    print(multiplicity)"
   ]
  },
  {
   "cell_type": "code",
   "execution_count": 75,
   "id": "67a8e702",
   "metadata": {},
   "outputs": [],
   "source": [
    "def f1(x):\n",
    "    return np.sin(x)"
   ]
  },
  {
   "cell_type": "code",
   "execution_count": null,
   "id": "46e7e118",
   "metadata": {},
   "outputs": [],
   "source": []
  }
 ],
 "metadata": {
  "kernelspec": {
   "display_name": "Python 3.9.5 64-bit",
   "language": "python",
   "name": "python395jvsc74a57bd0e0c39c2aa61344fb27ff6fb4f3a259e590cdda2eaea03f0e509c852643cc86c0"
  },
  "language_info": {
   "codemirror_mode": {
    "name": "ipython",
    "version": 3
   },
   "file_extension": ".py",
   "mimetype": "text/x-python",
   "name": "python",
   "nbconvert_exporter": "python",
   "pygments_lexer": "ipython3",
   "version": "3.9.5"
  }
 },
 "nbformat": 4,
 "nbformat_minor": 5
}
