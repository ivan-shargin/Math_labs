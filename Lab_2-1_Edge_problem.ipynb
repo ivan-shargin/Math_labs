{
 "cells": [
  {
   "cell_type": "markdown",
   "id": "7a4abb51",
   "metadata": {},
   "source": [
    "Краевая задача"
   ]
  },
  {
   "cell_type": "code",
   "execution_count": 144,
   "id": "db20bb69",
   "metadata": {},
   "outputs": [],
   "source": [
    "import numpy as np\n",
    "import matplotlib.pyplot as plt\n",
    "import scipy.integrate"
   ]
  },
  {
   "cell_type": "code",
   "execution_count": 145,
   "id": "958c729a",
   "metadata": {},
   "outputs": [],
   "source": [
    "left_cond_1 = {\"x\": 0, \"U\": 1}\n",
    "right_cond_1 = {\"x\": 1, \"U\": 2.75}"
   ]
  },
  {
   "cell_type": "code",
   "execution_count": 146,
   "id": "c2534384",
   "metadata": {},
   "outputs": [],
   "source": [
    "class edge_problem:\n",
    "    def __init__(self, p, q, f, left_cond, right_cond):\n",
    "        self.p = p\n",
    "        self.q = q\n",
    "        self.f = f\n",
    "        self.left_cond = left_cond\n",
    "        self.right_cond = right_cond\n",
    "    "
   ]
  },
  {
   "cell_type": "code",
   "execution_count": 147,
   "id": "92d2baab",
   "metadata": {},
   "outputs": [],
   "source": [
    "def sign(a):\n",
    "    if a > 0:\n",
    "        return 1\n",
    "    elif a < 0:\n",
    "        return -1\n",
    "    else:\n",
    "        return 0\n",
    "def bisection(f, search_area, e_x):\n",
    "    start = search_area[0]\n",
    "    finish = search_area[1]\n",
    "    error_x = abs(finish - start)\n",
    "    while error_x >= e_x:        \n",
    "        med = (start + finish) / 2\n",
    "        if f(med) == 0:\n",
    "            return(med)\n",
    "        elif sign(f(start)) != sign(f(med)):\n",
    "            finish = med\n",
    "        else:\n",
    "            start = med\n",
    "        error_x = abs(finish - start)\n",
    "        print(start, finish)\n",
    "        \n",
    "    return (start + finish) / 2\n",
    "            "
   ]
  },
  {
   "cell_type": "code",
   "execution_count": 148,
   "id": "c892a539",
   "metadata": {},
   "outputs": [],
   "source": [
    "class Shooting:\n",
    "    def __init__(self, edge_problem):\n",
    "        self.p = edge_problem.p\n",
    "        self.q = edge_problem.q\n",
    "        self.f = edge_problem.f\n",
    "        self.left_cond = edge_problem.left_cond\n",
    "        self.right_cond = edge_problem.right_cond\n",
    "        self.x_band = (self.left_cond[\"x\"], self.right_cond[\"x\"])\n",
    "    \n",
    "    def two_dim_form(self, x, y):\n",
    "        return np.array([-self.p(x) * y[0] - self.q(x) * y[1] + self.f(x), y[0]])        \n",
    "    \n",
    "    def shoot(self, der_0, max_step=1e-3, plot=False, title='Shot'):\n",
    "        y0 = np.array([der_0, self.left_cond[\"U\"]])\n",
    "        shot = scipy.integrate.solve_ivp(self.two_dim_form, self.x_band, y0, method='RK45', max_step=max_step)\n",
    "        if plot:\n",
    "            plt.figure(figsize = [5, 5])\n",
    "            plt.title(title)            \n",
    "            plt.plot(shot.t, shot.y[1, :], label='Computed', linewidth=6)\n",
    "            plt.grid()\n",
    "            plt.xlabel('x')\n",
    "            plt.ylabel('U')\n",
    "        return(shot.y[1, -1])\n",
    "    \n",
    "    def solve(self, der1, der2, max_shot_step=1e-3, error_der=1e-2):\n",
    "        search_area = np.array([der1, der2])\n",
    "        U_b = self.right_cond[\"U\"]\n",
    "        found_der = bisection(lambda x: self.shoot(x, max_step=max_shot_step) - U_b, search_area, error_der) \n",
    "        self.shoot(found_der, plot=True, title='Solution')\n",
    "         \n",
    "    def solve_linear(self):\n",
    "        pass\n",
    "        "
   ]
  },
  {
   "cell_type": "code",
   "execution_count": 149,
   "id": "932115c4",
   "metadata": {},
   "outputs": [],
   "source": [
    "def f_1(x):\n",
    "    return 0"
   ]
  },
  {
   "cell_type": "code",
   "execution_count": 150,
   "id": "96468173",
   "metadata": {},
   "outputs": [],
   "source": [
    "def p_1(x):\n",
    "    return 0"
   ]
  },
  {
   "cell_type": "code",
   "execution_count": 151,
   "id": "610126e2",
   "metadata": {},
   "outputs": [],
   "source": [
    "def q_1(x):\n",
    "    return -1"
   ]
  },
  {
   "cell_type": "code",
   "execution_count": 152,
   "id": "d06f1384",
   "metadata": {},
   "outputs": [],
   "source": [
    "problem_1 = edge_problem(p_1, q_1, f_1, left_cond_1, right_cond_1)"
   ]
  },
  {
   "cell_type": "code",
   "execution_count": 153,
   "id": "ea93a82e",
   "metadata": {},
   "outputs": [],
   "source": [
    "shooting = Shooting(problem_1)"
   ]
  },
  {
   "cell_type": "code",
   "execution_count": 154,
   "id": "380286bd",
   "metadata": {},
   "outputs": [
    {
     "data": {
      "text/plain": [
       "1.5430806348152435"
      ]
     },
     "execution_count": 154,
     "metadata": {},
     "output_type": "execute_result"
    },
    {
     "data": {
      "image/png": "[encoded data removed]",
      "text/plain": [
       "<Figure size 360x360 with 1 Axes>"
      ]
     },
     "metadata": {
      "needs_background": "light"
     },
     "output_type": "display_data"
    }
   ],
   "source": [
    "shooting.shoot(0, plot=True)\n"
   ]
  },
  {
   "cell_type": "code",
   "execution_count": 155,
   "id": "ff09a85b",
   "metadata": {},
   "outputs": [
    {
     "name": "stdout",
     "output_type": "stream",
     "text": [
      "0.0 10\n",
      "0.0 5.0\n",
      "0.0 2.5\n",
      "0.0 1.25\n",
      "0.625 1.25\n",
      "0.9375 1.25\n",
      "0.9375 1.09375\n",
      "1.015625 1.09375\n",
      "1.015625 1.0546875\n",
      "1.015625 1.03515625\n",
      "1.025390625 1.03515625\n",
      "1.025390625 1.0302734375\n",
      "1.025390625 1.02783203125\n",
      "1.026611328125 1.02783203125\n",
      "1.026611328125 1.0272216796875\n",
      "1.02691650390625 1.0272216796875\n",
      "1.02691650390625 1.027069091796875\n",
      "1.02691650390625 1.0269927978515625\n"
     ]
    },
    {
     "data": {
      "image/png": "[encoded data removed]",
      "text/plain": [
       "<Figure size 360x360 with 1 Axes>"
      ]
     },
     "metadata": {
      "needs_background": "light"
     },
     "output_type": "display_data"
    }
   ],
   "source": [
    "shooting.solve(-10, 10, error_der=1e-4)"
   ]
  },
  {
   "cell_type": "code",
   "execution_count": 156,
   "id": "b22a5489",
   "metadata": {},
   "outputs": [],
   "source": [
    "def presize_solution_1(x):\n",
    "    pass"
   ]
  },
  {
   "cell_type": "code",
   "execution_count": 157,
   "id": "44bf293a",
   "metadata": {},
   "outputs": [],
   "source": [
    "def f_2(x):\n",
    "    return (1-np.log(x))/np.power(x, 3)"
   ]
  },
  {
   "cell_type": "code",
   "execution_count": 158,
   "id": "421c734f",
   "metadata": {},
   "outputs": [],
   "source": [
    "def q_2(x):\n",
    "    return -1/np.square(x)/(1-np.log(x))"
   ]
  },
  {
   "cell_type": "code",
   "execution_count": 159,
   "id": "bb9a2211",
   "metadata": {},
   "outputs": [],
   "source": [
    "def p_2(x):\n",
    "    return 1/x/(1-np.log(x))"
   ]
  },
  {
   "cell_type": "code",
   "execution_count": 160,
   "id": "b92dda78",
   "metadata": {},
   "outputs": [],
   "source": [
    "def presize_solution_2(x):\n",
    "    return np.log(x) - 0.25*x + (1 - 2*np.log(x))/(4*x)"
   ]
  },
  {
   "cell_type": "code",
   "execution_count": 161,
   "id": "978c5774",
   "metadata": {},
   "outputs": [
    {
     "name": "stdout",
     "output_type": "stream",
     "text": [
      "0.14486038541995894\n"
     ]
    }
   ],
   "source": [
    "left_cond_2 = {\"x\": 1, \"U\": 0}\n",
    "right_cond_2 = {\"x\": 2, \"U\": (-3 + 6*np.log(2))/8}\n",
    "print((-3 + 6*np.log(2))/8)"
   ]
  },
  {
   "cell_type": "code",
   "execution_count": 162,
   "id": "f05ead73",
   "metadata": {},
   "outputs": [],
   "source": [
    "problem_2 = edge_problem(p_2, q_2, f_2, left_cond_2, right_cond_2)"
   ]
  },
  {
   "cell_type": "code",
   "execution_count": 163,
   "id": "aecc3876",
   "metadata": {},
   "outputs": [
    {
     "data": {
      "text/plain": [
       "0.16218906493395752"
      ]
     },
     "execution_count": 163,
     "metadata": {},
     "output_type": "execute_result"
    },
    {
     "data": {
      "image/png": "[encoded data removed]",
      "text/plain": [
       "<Figure size 360x360 with 1 Axes>"
      ]
     },
     "metadata": {
      "needs_background": "light"
     },
     "output_type": "display_data"
    }
   ],
   "source": [
    "shooting = Shooting(problem_2)\n",
    "shooting.shoot(0.025, plot=True)"
   ]
  },
  {
   "cell_type": "code",
   "execution_count": 164,
   "id": "4ae34647",
   "metadata": {},
   "outputs": [
    {
     "name": "stdout",
     "output_type": "stream",
     "text": [
      "-0.025 0.0\n",
      "-0.0125 0.0\n",
      "-0.00625 0.0\n",
      "-0.003125 0.0\n",
      "-0.0015625 0.0\n",
      "-0.00078125 0.0\n"
     ]
    },
    {
     "data": {
      "text/plain": [
       "<matplotlib.legend.Legend at 0x23097f50d00>"
      ]
     },
     "execution_count": 164,
     "metadata": {},
     "output_type": "execute_result"
    },
    {
     "data": {
      "image/png": "[encoded data removed]",
      "text/plain": [
       "<Figure size 360x360 with 1 Axes>"
      ]
     },
     "metadata": {
      "needs_background": "light"
     },
     "output_type": "display_data"
    }
   ],
   "source": [
    "shooting.solve(-0.025, 0.025, max_shot_step=1e-2, error_der=1e-3)\n",
    "x_band = np.linspace(1, 2, 25)\n",
    "plt.plot(x_band, presize_solution_2(x_band), c='r', label='precise_solution', marker='*')\n",
    "plt.legend()"
   ]
  },
  {
   "cell_type": "code",
   "execution_count": null,
   "id": "8d6afef5",
   "metadata": {},
   "outputs": [],
   "source": []
  },
  {
   "cell_type": "code",
   "execution_count": null,
   "id": "b82a8970",
   "metadata": {},
   "outputs": [],
   "source": []
  }
 ],
 "metadata": {
  "kernelspec": {
   "display_name": "Python 3.9.5 64-bit",
   "language": "python",
   "name": "python395jvsc74a57bd0e0c39c2aa61344fb27ff6fb4f3a259e590cdda2eaea03f0e509c852643cc86c0"
  },
  "language_info": {
   "codemirror_mode": {
    "name": "ipython",
    "version": 3
   },
   "file_extension": ".py",
   "mimetype": "text/x-python",
   "name": "python",
   "nbconvert_exporter": "python",
   "pygments_lexer": "ipython3",
   "version": "3.9.5"
  }
 },
 "nbformat": 4,
 "nbformat_minor": 5
}
