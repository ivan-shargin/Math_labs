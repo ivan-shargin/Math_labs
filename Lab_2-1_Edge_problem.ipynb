{
 "cells": [
  {
   "cell_type": "markdown",
   "id": "7a4abb51",
   "metadata": {},
   "source": [
    "Краевая задача"
   ]
  },
  {
   "cell_type": "code",
   "execution_count": 1,
   "id": "db20bb69",
   "metadata": {},
   "outputs": [],
   "source": [
    "import numpy as np\n",
    "import matplotlib.pyplot as plt\n",
    "import scipy.integrate"
   ]
  },
  {
   "cell_type": "code",
   "execution_count": 110,
   "id": "958c729a",
   "metadata": {},
   "outputs": [],
   "source": [
    "left_cond = {\"x\": 0, \"U\": 1}\n",
    "right_cond = {\"x\": 1, \"U\": 2.75}"
   ]
  },
  {
   "cell_type": "code",
   "execution_count": 3,
   "id": "c2534384",
   "metadata": {},
   "outputs": [],
   "source": [
    "class edge_problem:\n",
    "    def __init__(self, p, q, f, left_cond, right_cond):\n",
    "        self.p = p\n",
    "        self.q = q\n",
    "        self.f = f\n",
    "        self.left_cond = left_cond\n",
    "        self.right_cond = right_cond\n",
    "    "
   ]
  },
  {
   "cell_type": "code",
   "execution_count": 94,
   "id": "fc55ddd5",
   "metadata": {},
   "outputs": [],
   "source": [
    "def sign(a):\n",
    "    if a > 0:\n",
    "        return 1\n",
    "    elif a < 0:\n",
    "        return -1\n",
    "    else:\n",
    "        return 0\n",
    "def bisection(f, search_area, e_x):\n",
    "    start = search_area[0]\n",
    "    finish = search_area[1]\n",
    "    error_x = abs(finish - start)\n",
    "    while error_x >= e_x:        \n",
    "        med = (start + finish) / 2\n",
    "        if f(med) == 0:\n",
    "            return(med)\n",
    "        elif sign(f(start)) != sign(f(med)):\n",
    "            finish = med\n",
    "        else:\n",
    "            start = med\n",
    "        error_x = abs(finish - start)\n",
    "        print(start, finish)\n",
    "        \n",
    "    return (start + finish) / 2\n",
    "            "
   ]
  },
  {
   "cell_type": "code",
   "execution_count": 105,
   "id": "c892a539",
   "metadata": {},
   "outputs": [],
   "source": [
    "class Shooting:\n",
    "    def __init__(self, edge_problem):\n",
    "        self.p = edge_problem.p\n",
    "        self.q = edge_problem.q\n",
    "        self.f = edge_problem.f\n",
    "        self.left_cond = edge_problem.left_cond\n",
    "        self.right_cond = edge_problem.right_cond\n",
    "        self.x_band = (self.left_cond[\"x\"], self.right_cond[\"x\"])\n",
    "    \n",
    "    def two_dim_form(self, x, y):\n",
    "        return np.array([-self.p(x) * y[0] - self.q * y[1] + self.f(x), y[0]])        \n",
    "    \n",
    "    def shoot(self, der_0, max_step=1e-3, plot=False, title='Shot'):\n",
    "        y0 = np.array([der_0, self.left_cond[\"U\"]])\n",
    "        shot = scipy.integrate.solve_ivp(self.two_dim_form, self.x_band, y0, method='RK45', max_step=max_step)\n",
    "        if plot:\n",
    "            plt.figure(figsize = [5, 5])\n",
    "            plt.title(title)            \n",
    "            plt.plot(shot.t, shot.y[1, :])\n",
    "            plt.grid()\n",
    "            plt.xlabel('x')\n",
    "            plt.ylabel('U')\n",
    "        return(shot.y[1, -1])\n",
    "    \n",
    "    def solve(self, der1, der2, error_der=1e-2):\n",
    "        search_area = np.array([der1, der2])\n",
    "        U_b = self.right_cond[\"U\"]\n",
    "        found_der = bisection(lambda x: self.shoot(x) - U_b, search_area, error_der) \n",
    "        self.shoot(found_der, plot=True, title='Solution')\n",
    "         \n",
    "        "
   ]
  },
  {
   "cell_type": "code",
   "execution_count": 5,
   "id": "932115c4",
   "metadata": {},
   "outputs": [],
   "source": [
    "def f(x):\n",
    "    return 0"
   ]
  },
  {
   "cell_type": "code",
   "execution_count": 6,
   "id": "96468173",
   "metadata": {},
   "outputs": [],
   "source": [
    "def p(x):\n",
    "    return 0"
   ]
  },
  {
   "cell_type": "code",
   "execution_count": 111,
   "id": "d06f1384",
   "metadata": {},
   "outputs": [],
   "source": [
    "problem = edge_problem(p, -1, f, left_cond, right_cond)"
   ]
  },
  {
   "cell_type": "code",
   "execution_count": 112,
   "id": "ea93a82e",
   "metadata": {},
   "outputs": [],
   "source": [
    "shooting = Shooting(problem)"
   ]
  },
  {
   "cell_type": "code",
   "execution_count": 113,
   "id": "380286bd",
   "metadata": {},
   "outputs": [
    {
     "data": {
      "text/plain": [
       "1.5430806348152435"
      ]
     },
     "execution_count": 113,
     "metadata": {},
     "output_type": "execute_result"
    },
    {
     "data": {
      "image/png": "[encoded data removed]",
      "text/plain": [
       "<Figure size 360x360 with 1 Axes>"
      ]
     },
     "metadata": {
      "needs_background": "light"
     },
     "output_type": "display_data"
    }
   ],
   "source": [
    "shooting.shoot(0, plot=True)\n"
   ]
  },
  {
   "cell_type": "code",
   "execution_count": 114,
   "id": "3a14ceab",
   "metadata": {},
   "outputs": [
    {
     "name": "stdout",
     "output_type": "stream",
     "text": [
      "0.0 10\n",
      "0.0 5.0\n",
      "0.0 2.5\n",
      "0.0 1.25\n",
      "0.625 1.25\n",
      "0.9375 1.25\n",
      "0.9375 1.09375\n",
      "1.015625 1.09375\n",
      "1.015625 1.0546875\n",
      "1.015625 1.03515625\n",
      "1.025390625 1.03515625\n",
      "1.025390625 1.0302734375\n",
      "1.025390625 1.02783203125\n",
      "1.026611328125 1.02783203125\n",
      "1.026611328125 1.0272216796875\n",
      "1.02691650390625 1.0272216796875\n",
      "1.02691650390625 1.027069091796875\n",
      "1.02691650390625 1.0269927978515625\n"
     ]
    },
    {
     "data": {
      "image/png": "[encoded data removed]",
      "text/plain": [
       "<Figure size 360x360 with 1 Axes>"
      ]
     },
     "metadata": {
      "needs_background": "light"
     },
     "output_type": "display_data"
    }
   ],
   "source": [
    "shooting.solve(-10, 10, error_der=1e-4)"
   ]
  },
  {
   "cell_type": "code",
   "execution_count": 10,
   "id": "b22a5489",
   "metadata": {},
   "outputs": [],
   "source": [
    "def presize_solution(x):\n",
    "    return "
   ]
  },
  {
   "cell_type": "code",
   "execution_count": 11,
   "id": "44bf293a",
   "metadata": {},
   "outputs": [
    {
     "data": {
      "text/plain": [
       "[<matplotlib.lines.Line2D at 0x155d87cbbe0>]"
      ]
     },
     "execution_count": 11,
     "metadata": {},
     "output_type": "execute_result"
    },
    {
     "data": {
      "image/png": "[encoded data removed]",
      "text/plain": [
       "<Figure size 360x360 with 1 Axes>"
      ]
     },
     "metadata": {
      "needs_background": "light"
     },
     "output_type": "display_data"
    }
   ],
   "source": [
    "plt.figure(figsize=[5, 5])\n",
    "x_band = np.linspace(np.pi, 1.5*np.pi, 1000)\n",
    "plt.plot(x_band, presize_solution(x_band))"
   ]
  }
 ],
 "metadata": {
  "kernelspec": {
   "display_name": "Python 3.9.5 64-bit",
   "language": "python",
   "name": "python395jvsc74a57bd0e0c39c2aa61344fb27ff6fb4f3a259e590cdda2eaea03f0e509c852643cc86c0"
  },
  "language_info": {
   "codemirror_mode": {
    "name": "ipython",
    "version": 3
   },
   "file_extension": ".py",
   "mimetype": "text/x-python",
   "name": "python",
   "nbconvert_exporter": "python",
   "pygments_lexer": "ipython3",
   "version": "3.9.5"
  }
 },
 "nbformat": 4,
 "nbformat_minor": 5
}
